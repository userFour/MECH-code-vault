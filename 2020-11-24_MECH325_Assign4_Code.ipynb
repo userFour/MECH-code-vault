{
 "cells": [
  {
   "cell_type": "code",
   "execution_count": 1,
   "metadata": {},
   "outputs": [
    {
     "name": "stdout",
     "output_type": "stream",
     "text": [
      "Sucess!\n"
     ]
    }
   ],
   "source": [
    "from math import *\n",
    "import numpy as np\n",
    "# from scipy.optimize import fsolve\n",
    "import matplotlib\n",
    "import matplotlib.pyplot as plt\n",
    "from beambending import Beam, PointLoadV\n",
    "\n",
    "print(\"Sucess!\")"
   ]
  },
  {
   "cell_type": "code",
   "execution_count": 2,
   "metadata": {},
   "outputs": [],
   "source": [
    "lbf_to_n = 4.44822162 # [lbf to N]"
   ]
  },
  {
   "cell_type": "code",
   "execution_count": 3,
   "metadata": {},
   "outputs": [
    {
     "name": "stdout",
     "output_type": "stream",
     "text": [
      "PV = 47123.8898 [psi*fpm]\n",
      "Tf = 1612.4165 [F]\n"
     ]
    }
   ],
   "source": [
    "# Question1\n",
    "\n",
    "F = 75 # [lbf]\n",
    "n = 600 # [rpm]\n",
    "dia = 0.5 # [in]\n",
    "\n",
    "L = 0.5\n",
    "\n",
    "PV = F/(L*dia) * (pi*dia*n)/12\n",
    "\n",
    "# Add the factor of safety\n",
    "PV *= 2\n",
    "\n",
    "print(\"PV = %0.4f [psi*fpm]\" % PV)\n",
    "\n",
    "T_inf = 70 # [f]\n",
    "fs = 0.05\n",
    "h_CR = 2.7 # [BTU/(hr*ft*F)]\n",
    "J = 778 # [ft*lbf/BTU]\n",
    "\n",
    "Tf = T_inf + (720 * fs * F * n)/(J * h_CR * L)\n",
    "\n",
    "print(\"Tf = %0.4f [F]\" % Tf)"
   ]
  },
  {
   "cell_type": "code",
   "execution_count": 4,
   "metadata": {},
   "outputs": [
    {
     "name": "stdout",
     "output_type": "stream",
     "text": [
      "P = 80.0000 [psi]\n",
      "V = 65.4498 [fpm]\n",
      "L based on wear: 0.7200 [in]\n",
      "L based on temperature: 1.7883 [in]\n"
     ]
    }
   ],
   "source": [
    "# Question2\n",
    "\n",
    "w = 0.002 # [in]\n",
    "t = 1000 # [hr]\n",
    "n = 200 # [rpm]\n",
    "F = 100 # [lbf]\n",
    "dia = 1.25 # [in]\n",
    "T_amb = 70 # [F]\n",
    "FoS = 2\n",
    "fs = 0.03\n",
    "J = 778\n",
    "h_CR = 2.7\n",
    "T_max = 300\n",
    "\n",
    "# Guess L = 1 for now\n",
    "L = 1\n",
    "P = F/(dia*L)\n",
    "print(\"P = %0.4f [psi]\" % P)\n",
    "V = (pi*dia*n)/12\n",
    "print(\"V = %0.4f [fpm]\" % V)\n",
    "f1 = 1.8\n",
    "\n",
    "f2 = 1\n",
    "k = 0.6*(10**(-10))\n",
    "\n",
    "L = (f1 * f2 * k * FoS * F * n * t) / (3 * w)\n",
    "print(\"L based on wear: %0.4f [in]\" % L)\n",
    "\n",
    "L = (720 * fs * FoS * F * n) / (J * h_CR * (T_max - T_amb))\n",
    "print(\"L based on temperature: %0.4f [in]\" % L)\n",
    "\n"
   ]
  },
  {
   "cell_type": "code",
   "execution_count": 5,
   "metadata": {},
   "outputs": [
    {
     "name": "stdout",
     "output_type": "stream",
     "text": [
      "C10 = 49.2814 [kN]\n",
      "R = 0.9453 []\n"
     ]
    }
   ],
   "source": [
    "# Question3\n",
    "\n",
    "af = 1.4\n",
    "F_D = 725 # [lbf]\n",
    "theta = 4.459\n",
    "x0 = 0.02\n",
    "a = 3\n",
    "b = 1.483\n",
    "\n",
    "x_D = 1248\n",
    "\n",
    "C10 = af * F_D * (x_D / (x0 + (theta - x0) * (1 - 0.9)**(1/1.483)))**(1/3)\n",
    "C10 *= (lbf_to_n / 1000)\n",
    "print(\"C10 = %0.4f [kN]\" % C10)\n",
    "\n",
    "C10 = 55.9E3\n",
    "\n",
    "temp = (af * (F_D*lbf_to_n) / C10)**a\n",
    "\n",
    "R = exp(-(((x_D*temp - x0)/(theta - x0)))**b)\n",
    "print(\"R = %0.4f []\" % R)"
   ]
  },
  {
   "cell_type": "code",
   "execution_count": 6,
   "metadata": {},
   "outputs": [
    {
     "name": "stdout",
     "output_type": "stream",
     "text": [
      "dia_gear = 3.0000 [in]\n",
      "vel_gear = 376.9911 [fpm]\n",
      "torque_gear = 656.5104 [lbf*in]\n",
      "W_t = 437.6761 [lbf]\n",
      "W_r = 159.3011 [lbf]\n",
      "\n",
      "torque_sprocket = 1444.3229 [lbf*in]\n",
      "force_sprocket = 288.8646 [lbf]\n",
      "\n",
      "torque_v = 393.9062 [lbf*in]\n",
      "force_v = 295.4297 [lbf]\n",
      "\n",
      "A_y = 363.7595 [lbf]\n",
      "A_z = 93.0839 [lbf]\n",
      "F_y = 255.0025 [lbf]\n",
      "F_z = 230.3399 [lbf]\n"
     ]
    }
   ],
   "source": [
    "# Question6\n",
    "\n",
    "P_d = 8\n",
    "num_teeth = 24\n",
    "phi_t = 20\n",
    "n = 480\n",
    "hp_gear = 5\n",
    "\n",
    "dia_gear = num_teeth / P_d\n",
    "print(\"dia_gear = %0.4f [in]\" % dia_gear)\n",
    "vel_gear = (dia_gear * n * pi) / 12\n",
    "print(\"vel_gear = %0.4f [fpm]\" % vel_gear)\n",
    "torque_gear = (63025 * hp_gear) / n\n",
    "print(\"torque_gear = %0.4f [lbf*in]\" % torque_gear)\n",
    "W_t = 33000 * (hp_gear / vel_gear)\n",
    "print(\"W_t = %0.4f [lbf]\" % W_t)\n",
    "W_r = W_t * tan(radians(phi_t))\n",
    "print(\"W_r = %0.4f [lbf]\" % W_r)\n",
    "\n",
    "\n",
    "# Compute force from sprocket\n",
    "dia_sprocket = 10 # [in]\n",
    "hp_sprocket = 11 # [hp]\n",
    "\n",
    "torque_sprocket = (63025 * hp_sprocket) / n\n",
    "print(\"\\ntorque_sprocket = %0.4f [lbf*in]\" % torque_sprocket)\n",
    "\n",
    "force_sprocket = torque_sprocket / (dia_sprocket/2)\n",
    "print(\"force_sprocket = %0.4f [lbf]\" % force_sprocket)\n",
    "\n",
    "\n",
    "# Compute force from first V-belt\n",
    "dia_v1 = dia_v2 = 4 # [in]\n",
    "hp_v1 = hp_v2 = 3\n",
    "torque_v1 = torque_v = (63025 * hp_v1) / n\n",
    "print(\"\\ntorque_v = %0.4f [lbf*in]\" % torque_v1)\n",
    "\n",
    "force_v1 = force_v = (3/2) * (torque_v1 / (dia_v1/2))\n",
    "print(\"force_v = %0.4f [lbf]\" % force_v1)\n",
    "\n",
    "\n",
    "# Resolve the reactions\n",
    "F_y = (1/24) * ((4*W_t) - (10*force_sprocket*sin(radians(15))) + (20*force_v*cos(radians(30))))\n",
    "A_y = (1/24) * ((20*W_t) - (14*force_sprocket*sin(radians(15))) + (4*force_v*cos(radians(30))))\n",
    "\n",
    "F_z = (1/24) * ((4*W_r) - (10*force_sprocket*cos(radians(15))) + (16*force_v) + (20*force_v*sin(radians(30))))\n",
    "A_z = (1/24) * ((20*W_r) - (14*force_sprocket*cos(radians(15))) + (8*force_v) + (4*force_v*sin(radians(30))))\n",
    "\n",
    "print(\"\\nA_y = %0.4f [lbf]\" % A_y)\n",
    "print(\"A_z = %0.4f [lbf]\" % A_z)\n",
    "print(\"F_y = %0.4f [lbf]\" % F_y)\n",
    "print(\"F_z = %0.4f [lbf]\" % F_z)\n"
   ]
  },
  {
   "cell_type": "code",
   "execution_count": 7,
   "metadata": {},
   "outputs": [
    {
     "data": {
      "image/png": "[encoded data removed]",
      "text/plain": [
       "<Figure size 432x180 with 1 Axes>"
      ]
     },
     "metadata": {
      "needs_background": "light"
     },
     "output_type": "display_data"
    },
    {
     "data": {
      "image/png": "[encoded data removed]",
      "text/plain": [
       "<Figure size 432x180 with 1 Axes>"
      ]
     },
     "metadata": {
      "needs_background": "light"
     },
     "output_type": "display_data"
    },
    {
     "data": {
      "image/png": "[encoded data removed]",
      "text/plain": [
       "<Figure size 432x180 with 1 Axes>"
      ]
     },
     "metadata": {
      "needs_background": "light"
     },
     "output_type": "display_data"
    },
    {
     "data": {
      "image/png": "[encoded data removed]",
      "text/plain": [
       "<Figure size 432x180 with 1 Axes>"
      ]
     },
     "metadata": {
      "needs_background": "light"
     },
     "output_type": "display_data"
    },
    {
     "data": {
      "image/png": "[encoded data removed]",
      "text/plain": [
       "<Figure size 432x180 with 1 Axes>"
      ]
     },
     "metadata": {
      "needs_background": "light"
     },
     "output_type": "display_data"
    },
    {
     "data": {
      "image/png": "[encoded data removed]",
      "text/plain": [
       "<Figure size 432x180 with 1 Axes>"
      ]
     },
     "metadata": {
      "needs_background": "light"
     },
     "output_type": "display_data"
    }
   ],
   "source": [
    "# Question6 (plotting V, M diagram)\n",
    "\n",
    "# Make the shear and moment diagrams\n",
    "\n",
    "# Setup the xy beam\n",
    "beamXY = Beam(24)  # Initialize a Beam object of length 24in\n",
    "beamXY.pinned_support = 0    # x-coordinate of the pinned support\n",
    "beamXY.rolling_support = 24  # x-coordinate of the rolling support\n",
    "\n",
    "# Add loads to the xy beam\n",
    "beamXY.add_loads((\n",
    "    \n",
    "    PointLoadV(-W_t, 4), # loadVal, xVal\n",
    "    PointLoadV((force_sprocket*sin(radians(15))), 10),\n",
    "    PointLoadV((-force_v*cos(radians(30))), 20),\n",
    "    \n",
    "))\n",
    "\n",
    "fig = beamXY.plot_beam_diagram()\n",
    "fig = beamXY.plot_shear_force()\n",
    "fig = beamXY.plot_bending_moment()\n",
    "\n",
    "\n",
    "# Setup the xz beam\n",
    "beamXZ = Beam(24)  # Initialize a Beam object of length 24in\n",
    "beamXZ.pinned_support = 0    # x-coordinate of the pinned support\n",
    "beamXZ.rolling_support = 24  # x-coordinate of the rolling support\n",
    "\n",
    "# Add loads to the xz beam\n",
    "beamXZ.add_loads((\n",
    "    \n",
    "    PointLoadV(-W_r, 4), # loadVal, xVal\n",
    "    PointLoadV((force_sprocket*cos(radians(15))), 10),\n",
    "    PointLoadV(-force_v, 16),\n",
    "    PointLoadV((-force_v*sin(radians(30))), 20),\n",
    "    \n",
    "))\n",
    "\n",
    "fig1 = beamXZ.plot_beam_diagram()\n",
    "fig1 = beamXZ.plot_shear_force()\n",
    "fig1 = beamXZ.plot_bending_moment()\n"
   ]
  },
  {
   "cell_type": "code",
   "execution_count": 8,
   "metadata": {},
   "outputs": [
    {
     "data": {
      "image/png": "[encoded data removed]",
      "text/plain": [
       "<Figure size 432x288 with 1 Axes>"
      ]
     },
     "metadata": {
      "needs_background": "light"
     },
     "output_type": "display_data"
    }
   ],
   "source": [
    "# Question6 (plotting T diagram)\n",
    "\n",
    "# Do the torque plot\n",
    "torque_xVals = np.array([0, 4, 4, 10, 10, 16, 16, 20, 20, 24])\n",
    "torque_yVals = np.array([0, 0, -torque_gear, -torque_gear, torque_sprocket - torque_gear, \\\n",
    "                         torque_sprocket - torque_gear, torque_v, torque_v, 0, 0])\n",
    "\n",
    "fig, ax = plt.subplots()\n",
    "ax.plot(torque_xVals, torque_yVals, 'b-')\n",
    "\n",
    "for xy in zip(torque_xVals, torque_yVals):\n",
    "    ax.annotate('(%0.1f, %0.1f)' % xy, xy=xy, textcoords='data')\n",
    "    \n",
    "plt.title(\"Torque Diagram\")\n",
    "plt.xlabel(\"Distance [in]\")\n",
    "plt.ylabel(\"Torque [lbf*in]\")\n",
    "plt.grid(True)"
   ]
  },
  {
   "cell_type": "code",
   "execution_count": 9,
   "metadata": {},
   "outputs": [
    {
     "name": "stdout",
     "output_type": "stream",
     "text": [
      "s_n = 43.5000 [ksi]\n",
      "s_n_prime = 28.1880 [ksi]\n",
      "\n",
      "dia_spur_shaft = 1.5970 [in]\n",
      "dia_sprocket_shaft = 1.4016 [in]\n",
      "dia_sheave1_shaft = 1.6349 [in]\n",
      "dia_sheave2_shaft = 1.5501 [in]\n"
     ]
    }
   ],
   "source": [
    "# Compute shaft diameters\n",
    "\n",
    "s_u = 87 # [ksi]\n",
    "s_y = 60E3 # [psi]\n",
    "\n",
    "s_n = 0.5 * s_u # [ksi]\n",
    "print(\"s_n = %0.4f [ksi]\" % s_n)\n",
    "\n",
    "c_m = 1\n",
    "c_st = 1\n",
    "c_r = 0.81\n",
    "c_s = 0.8\n",
    "\n",
    "s_n_prime = s_n * c_m * c_st * c_r * c_s\n",
    "s_n_prime *= 1E3\n",
    "print(\"s_n_prime = %0.4f [ksi]\" % (s_n_prime/1E3))\n",
    "\n",
    "\n",
    "N = 2.5\n",
    "k_t = 3\n",
    "\n",
    "# Compute spur gear minimum shaft diameter\n",
    "M = 1501.94\n",
    "T = torque_gear\n",
    "dia_spur_shaft = ((32*N/pi) * (sqrt((k_t*M)/s_n_prime)**2 + (3/4)*(T/s_y)**2))**(1/3)\n",
    "print(\"\\ndia_spur_shaft = %0.4f [in]\" % dia_spur_shaft)\n",
    "\n",
    "\n",
    "# Compute sprocket minimum shaft diameter\n",
    "M = 1011.82\n",
    "T = torque_sprocket\n",
    "dia_sprocket_shaft = ((32*N/pi) * (sqrt((k_t*M)/s_n_prime)**2 + (3/4)*(T/s_y)**2))**(1/3)\n",
    "print(\"dia_sprocket_shaft = %0.4f [in]\" % dia_sprocket_shaft)\n",
    "\n",
    "\n",
    "# Compute sheave at D minimum shaft diameter\n",
    "M = 1612.24\n",
    "T = torque_v\n",
    "dia_sheave1_shaft = ((32*N/pi) * (sqrt((k_t*M)/s_n_prime)**2 + (3/4)*(T/s_y)**2))**(1/3)\n",
    "print(\"dia_sheave1_shaft = %0.4f [in]\" % dia_sheave1_shaft)\n",
    "\n",
    "\n",
    "# Compute sheave at D minimum shaft diameter\n",
    "M = 1374.11\n",
    "T = torque_v\n",
    "dia_sheave2_shaft = ((32*N/pi) * (sqrt((k_t*M)/s_n_prime)**2 + (3/4)*(T/s_y)**2))**(1/3)\n",
    "print(\"dia_sheave2_shaft = %0.4f [in]\" % dia_sheave2_shaft)"
   ]
  },
  {
   "cell_type": "code",
   "execution_count": 10,
   "metadata": {},
   "outputs": [
    {
     "name": "stdout",
     "output_type": "stream",
     "text": [
      "tau_d = 51.9300 [ksi]\n",
      "\n",
      "Spur gear key:\n",
      "L_min_shear = 0.0289 [in]\n",
      "L_min_compression = 0.0333 [in]\n",
      "\n",
      "Sprocket key:\n",
      "L_min_shear = 0.0636 [in]\n",
      "L_min_compression = 0.0734 [in]\n",
      "\n",
      "Sheave1 = Sheave2 key:\n",
      "L_min_shear = 0.0173 [in]\n",
      "L_min_compression = 0.0200 [in]\n"
     ]
    }
   ],
   "source": [
    "# Compute required keys\n",
    "\n",
    "# Figure out material parmeters\n",
    "yield_strength_4140 = 90E3 # [psi]\n",
    "tau_d = 0.577 * yield_strength_4140\n",
    "print(\"tau_d = %0.4f [ksi]\" % (tau_d/1E3))\n",
    "\n",
    "# For 1.75 in shaft, key w = h = 0.5\n",
    "W_key = H_key = 0.5\n",
    "\n",
    "# Compute for spur gear (shear, compression)\n",
    "print(\"\\nSpur gear key:\")\n",
    "L_min_shear = (2*torque_gear) / (tau_d * 1.75 * W_key)\n",
    "L_min_compression = (4*torque_gear) / (yield_strength_4140 * 1.75 * H_key)\n",
    "print(\"L_min_shear = %0.4f [in]\" % L_min_shear)\n",
    "print(\"L_min_compression = %0.4f [in]\" % L_min_compression)\n",
    "\n",
    "# Compute for sprocket (shear, compression)\n",
    "print(\"\\nSprocket key:\")\n",
    "L_min_shear = (2*torque_sprocket) / (tau_d * 1.75 * W_key)\n",
    "L_min_compression = (4*torque_sprocket) / (yield_strength_4140 * 1.75 * H_key)\n",
    "print(\"L_min_shear = %0.4f [in]\" % L_min_shear)\n",
    "print(\"L_min_compression = %0.4f [in]\" % L_min_compression)\n",
    "\n",
    "# Compute for sheave (shear, compression)\n",
    "print(\"\\nSheave1 = Sheave2 key:\")\n",
    "L_min_shear = (2*torque_v) / (tau_d * 1.75 * W_key)\n",
    "L_min_compression = (4*torque_v) / (yield_strength_4140 * 1.75 * H_key)\n",
    "print(\"L_min_shear = %0.4f [in]\" % L_min_shear)\n",
    "print(\"L_min_compression = %0.4f [in]\" % L_min_compression)\n"
   ]
  },
  {
   "cell_type": "code",
   "execution_count": 11,
   "metadata": {},
   "outputs": [
    {
     "name": "stdout",
     "output_type": "stream",
     "text": [
      "magnitude_A = 375.4805 [lbf]\n",
      "magnitude_F = 343.6317 [lbf]\n",
      "P_1_A = 2446.1063 [lbf]\n",
      "P_1_F = 2238.6240 [lbf]\n"
     ]
    }
   ],
   "source": [
    "# Compute the required bearings\n",
    "\n",
    "magnitude_A = sqrt(A_y**2 + A_z**2)\n",
    "magnitude_F = sqrt(F_y**2 + F_z**2)\n",
    "print(\"magnitude_A = %0.4f [lbf]\" % magnitude_A)\n",
    "print(\"magnitude_F = %0.4f [lbf]\" % magnitude_F)\n",
    "\n",
    "L_D = 9600 * 60 * n\n",
    "L_10 = 1E6\n",
    "\n",
    "# x_D = (60 * L_D * n) / L_10\n",
    "# print(\"x_D = %0.4f [?]\" % x_D)\n",
    "\n",
    "# # Weibull parameters\n",
    "# theta = 4.459\n",
    "# x_0 = 0.02\n",
    "# b = 1.483\n",
    "\n",
    "a = k = 3\n",
    "# a_f = 1\n",
    "# F_D = magnitude_A\n",
    "\n",
    "# # Compute C10 for bearing A\n",
    "# C_10 = (a_f * F_D) * (x_D / (x_0 + (theta - x_0)*(1 - 0.9)**(1/b)))**(1/a)\n",
    "# print(\"C_10 = %0.4f [lbf]\" % C_10)\n",
    "# print(\"C_10 = %0.4f [kN]\" % (C_10*lbf_to_n/1E3))\n",
    "\n",
    "\n",
    "# Compute for bearing A\n",
    "P_1 = magnitude_A * (L_D/L_10)**(1/k)\n",
    "print(\"P_1_A = %0.4f [lbf]\" % P_1)\n",
    "\n",
    "\n",
    "# Compute for bearing F\n",
    "P_1 = magnitude_F * (L_D/L_10)**(1/k)\n",
    "print(\"P_1_F = %0.4f [lbf]\" % P_1)\n"
   ]
  },
  {
   "cell_type": "code",
   "execution_count": null,
   "metadata": {},
   "outputs": [],
   "source": []
  }
 ],
 "metadata": {
  "kernelspec": {
   "display_name": "Python 3",
   "language": "python",
   "name": "python3"
  },
  "language_info": {
   "codemirror_mode": {
    "name": "ipython",
    "version": 3
   },
   "file_extension": ".py",
   "mimetype": "text/x-python",
   "name": "python",
   "nbconvert_exporter": "python",
   "pygments_lexer": "ipython3",
   "version": "3.8.5"
  }
 },
 "nbformat": 4,
 "nbformat_minor": 4
}
