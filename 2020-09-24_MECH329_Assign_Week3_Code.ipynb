{
 "cells": [
  {
   "cell_type": "code",
   "execution_count": null,
   "metadata": {
    "_cell_guid": "b1076dfc-b9ad-4769-8c92-a6c4dae69d19",
    "_uuid": "8f2839f25d086af736a60e9eeb907d3b93b6e0e5"
   },
   "outputs": [],
   "source": [
    "import numpy as np\n",
    "from scipy.optimize import fsolve"
   ]
  },
  {
   "cell_type": "code",
   "execution_count": null,
   "metadata": {
    "_cell_guid": "79c7e3d0-c299-4dcb-8224-4455121ee9b0",
    "_uuid": "d629ff2d2480ee46fbb7e2d37f6b5fab8052498a"
   },
   "outputs": [],
   "source": [
    "p = 20E6\n",
    "E = 200E9\n",
    "v = 0.3\n",
    "R = 1\n",
    "deltaR = 3E-3\n",
    "\n",
    "strain = deltaR / R\n",
    "print(strain)\n",
    "\n",
    "stress = (strain * E) / (1 - v)\n",
    "print(\"%0.4f\" % stress)\n",
    "\n",
    "t = (p * R) / (2 * stress)\n",
    "print(\"%0.4f\" % t)\n",
    "\n"
   ]
  },
  {
   "cell_type": "code",
   "execution_count": null,
   "metadata": {},
   "outputs": [],
   "source": [
    "# C = 2*pi*r\n",
    "p = 20E6\n",
    "E = 200E9\n",
    "v = 0.3\n",
    "R = 1\n",
    "C = 2 * np.pi * R\n",
    "#print(C)\n",
    "t = 1E-3\n",
    "\n",
    "stress = (p * R) / (2 * t)\n",
    "\n",
    "strain = (stress/E)*(1-v)\n",
    "\n",
    "newR_direct = R + R * strain\n",
    "\n",
    "newC = C + C * strain\n",
    "#print(newC)\n",
    "newR_c = newC / (2 * np.pi)\n",
    "\n",
    "print(newR_direct)\n",
    "print(newR_c)"
   ]
  }
 ],
 "metadata": {
  "kernelspec": {
   "display_name": "Python 3",
   "language": "python",
   "name": "python3"
  },
  "language_info": {
   "codemirror_mode": {
    "name": "ipython",
    "version": 3
   },
   "file_extension": ".py",
   "mimetype": "text/x-python",
   "name": "python",
   "nbconvert_exporter": "python",
   "pygments_lexer": "ipython3",
   "version": "3.8.5"
  }
 },
 "nbformat": 4,
 "nbformat_minor": 4
}
