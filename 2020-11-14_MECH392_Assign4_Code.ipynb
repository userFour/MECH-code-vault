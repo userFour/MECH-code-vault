{
 "cells": [
  {
   "cell_type": "code",
   "execution_count": 2,
   "metadata": {},
   "outputs": [
    {
     "name": "stdout",
     "output_type": "stream",
     "text": [
      "Sucess!\n"
     ]
    }
   ],
   "source": [
    "from math import *\n",
    "import numpy as np\n",
    "from scipy.optimize import fsolve\n",
    "import matplotlib\n",
    "import matplotlib.pyplot as plt\n",
    "\n",
    "print(\"Sucess!\")"
   ]
  },
  {
   "cell_type": "code",
   "execution_count": 15,
   "metadata": {},
   "outputs": [
    {
     "name": "stdout",
     "output_type": "stream",
     "text": [
      "delta_t_max = 0.0036 [m]\n",
      "We can roll in one pass: False\n",
      "\n",
      "epsilon = 0.1054 []\n",
      "Power for first stage: 167.5083 [kW]\n",
      "Power for second stage: 172.0529 [kW]\n",
      "Total power: 339.5612 [kW]\n",
      "\n",
      "sucess!\n"
     ]
    },
    {
     "data": {
      "text/plain": [
       "'Minimum power: 334.26 [kW]'"
      ]
     },
     "execution_count": 15,
     "metadata": {},
     "output_type": "execute_result"
    },
    {
     "data": {
      "image/png": "[encoded data removed]",
      "text/plain": [
       "<Figure size 432x288 with 1 Axes>"
      ]
     },
     "metadata": {
      "needs_background": "light"
     },
     "output_type": "display_data"
    }
   ],
   "source": [
    "# Question1\n",
    "\n",
    "w0 = 300E-3 # [m]\n",
    "t0 = 25E-3 # [m]\n",
    "\n",
    "R = 250E-3 # [m]\n",
    "N = 50 # [rpm]\n",
    "\n",
    "k = 275E6 # [Pa]\n",
    "n = 0.15\n",
    "mu = 0.12\n",
    "\n",
    "# --------------------- Pt A ---------------------\n",
    "# Can we reduce thickness to 20mm in one pass?\n",
    "\n",
    "delta_t_max = mu**2 * R\n",
    "print(\"delta_t_max = %0.4f [m]\" % delta_t_max)\n",
    "delta_t = t0 - 20E-3\n",
    "canRoll = delta_t < delta_t_max\n",
    "print(\"We can roll in one pass: %r\" % canRoll)\n",
    "\n",
    "# --------------------- Pt B ---------------------\n",
    "# How much power do we need for multistage rolling operation?\n",
    "# Recall we have power = torque * omega = (2*pi*N/60)*R*(h0-hf)*width*((k*epsilon**n)/(1+n))\n",
    "# Also recall epsilon = ln(hf/h0)\n",
    "\n",
    "delta_t = 2.5E-3\n",
    "t1 = t0 - delta_t\n",
    "\n",
    "epsilon = abs(log(t1/t0))\n",
    "print(\"\\nepsilon = %0.4f []\" % epsilon)\n",
    "\n",
    "power1 = (2*pi*N/60) * R * (t0 - t1) * w0 * ((k*(epsilon**n))/(1+n))\n",
    "print(\"Power for first stage: %0.4f [kW]\" % (power1/1000))\n",
    "\n",
    "# Compute for second roller\n",
    "# We need to compute new width\n",
    "slip = 0.1\n",
    "ratio = 1+slip\n",
    "fxn = lambda x: (t0 * w0) - (t1 * x) * ratio\n",
    "w1 = fsolve(fxn, 0.3)\n",
    "# print(\"Width from first roller = %0.4f [m]\" % w1)\n",
    "\n",
    "t2 = t1 - delta_t\n",
    "epsilon = abs(log(t2/t1))\n",
    "\n",
    "power2 = (2*pi*N/60) * R * (t1 - t2) * w1 * ((k*(epsilon**n))/(1+n))\n",
    "print(\"Power for second stage: %0.4f [kW]\" % (power2/1000))\n",
    "print(\"Total power: %0.4f [kW]\" % ((power1 + power2)/1000))\n",
    "\n",
    "\n",
    "# --------------------- Pt C ---------------------\n",
    "# Optimize the process for minimum power\n",
    "\n",
    "num_points = 100\n",
    "# Go from first roller doing minimum allowable rolling to maximum allowable rolling\n",
    "initial_delta_t = np.linspace((5E-3 - delta_t_max), delta_t_max, num_points)\n",
    "power = np.zeros(num_points)\n",
    "\n",
    "for i, delta_t in enumerate(initial_delta_t):\n",
    "    \n",
    "    #print(delta_t)\n",
    "\n",
    "    t1 = t0 - delta_t\n",
    "    epsilon = abs(log(t1/t0))\n",
    "    power1 = (2*pi*N/60) * R * (t0 - t1) * w0 * ((k*(epsilon**n))/(1+n))\n",
    "    #print(\"power1 = %0.4f\" % (power1/1000))\n",
    "    \n",
    "    fxn = lambda x: (t0 * w0) - (t1 * x) * ratio\n",
    "    w1 = fsolve(fxn, 0.3)\n",
    "    \n",
    "    delta_t = (t0 - delta_t) - 20E-3 # Compute how much delta_t the second roller has to do\n",
    "    #print(\"delta_t = %0.4f\" % delta_t)\n",
    "    \n",
    "    t2 = t1 - delta_t\n",
    "    epsilon = abs(log(t2/t1))\n",
    "    power2 = (2*pi*N/60) * R * (t1 - t2) * w1 * ((k*(epsilon**n))/(1+n))\n",
    "    #print(\"power2 = %0.4f\" % (power2/1000))\n",
    "    \n",
    "    power[i] = power1 + power2\n",
    "    #print(\"total power = %0.4f\" % (power[i]/1000))\n",
    "    \n",
    "print(\"\\nsucess!\")\n",
    "    \n",
    "fig, ax = plt.subplots()\n",
    "ax.plot(initial_delta_t, (power/1000), 'b-')\n",
    "plt.title(\"Power Vs. Initial Rolling Thickness\")\n",
    "plt.xlabel(\"Initial Rolling Thickness [m]\")\n",
    "plt.ylabel(\"Power [kW]\")\n",
    "# ax.set_xlim(delta_t_max, (5E-3 - delta_t_max))  # decreasing thickness\n",
    "plt.grid(True)\n",
    "\n",
    "# Try out the fancy fstring formatting\n",
    "f\"Minimum power: {(power[0]/1000):0.2f} [kW]\"\n",
    "\n"
   ]
  },
  {
   "cell_type": "code",
   "execution_count": 11,
   "metadata": {},
   "outputs": [
    {
     "name": "stdout",
     "output_type": "stream",
     "text": [
      "k_f = 1.0267 []\n",
      "A0 = 0.0020 [m^2]\n",
      "Force at 0.0620 [m]: 532.2 [kN]\n",
      "Force at 0.0490 [m]: 610.2 [kN]\n",
      "Force at 0.0360 [m]: 669.4 [kN]\n"
     ]
    },
    {
     "data": {
      "image/png": "[encoded data removed]",
      "text/plain": [
       "<Figure size 432x288 with 1 Axes>"
      ]
     },
     "metadata": {
      "needs_background": "light"
     },
     "output_type": "display_data"
    }
   ],
   "source": [
    "# Question2\n",
    "\n",
    "h0 = 75E-3\n",
    "dia0 = 50E-3\n",
    "\n",
    "K = 350E6\n",
    "n = 0.17\n",
    "mu = 0.1\n",
    "\n",
    "# Recall we have F = K_f * K * epsilon**n * A0\n",
    "# Open die forging --> K_f = 1 + (0.4 * mu * dia0)/h0\n",
    "K_f = 1 + (0.4 * mu * dia0)/h0\n",
    "print(\"k_f = %0.4f []\" % K_f)\n",
    "\n",
    "A0 = pi/4 * dia0**2\n",
    "print(\"A0 = %0.4f [m^2]\" % A0)\n",
    "\n",
    "num_points = 1000\n",
    "heights = np.linspace(75E-3, 36E-3, num_points)\n",
    "forces = np.zeros(num_points)\n",
    "\n",
    "for i, h in enumerate(heights):\n",
    "    \n",
    "    epsilon_x = abs(log(h/h0))\n",
    "    forces[i] = K_f * K * epsilon_x**n * A0\n",
    "    #print(\"Force at %0.4f [m]: %0.4f [N]\" % (h, F_x))\n",
    "\n",
    "fig, ax = plt.subplots()\n",
    "ax.plot(heights, (forces/1000), 'b-')\n",
    "ax.set_xlim(h0, 35E-3)  # decreasing thickness\n",
    "plt.title(\"Force vs Displacement\")\n",
    "plt.xlabel(\"Displacement [m]\")\n",
    "plt.ylabel(\"Force [kN]\")\n",
    "plt.grid(True)\n",
    "\n",
    "\n",
    "# --------------------- Compute the specific ones the assignment asks for ---------------------\n",
    "heights = [62E-3, 49E-3, 36E-3]\n",
    "\n",
    "for i, h in enumerate(heights):\n",
    "    \n",
    "    epsilon_x = abs(log(h/h0))\n",
    "    F_x = K_f * K * epsilon_x**n * A0\n",
    "    print(\"Force at %0.4f [m]: %0.1f [kN]\" % (h, F_x/1000))\n",
    "\n"
   ]
  },
  {
   "cell_type": "code",
   "execution_count": null,
   "metadata": {},
   "outputs": [],
   "source": []
  }
 ],
 "metadata": {
  "kernelspec": {
   "display_name": "Python 3",
   "language": "python",
   "name": "python3"
  },
  "language_info": {
   "codemirror_mode": {
    "name": "ipython",
    "version": 3
   },
   "file_extension": ".py",
   "mimetype": "text/x-python",
   "name": "python",
   "nbconvert_exporter": "python",
   "pygments_lexer": "ipython3",
   "version": "3.8.5"
  }
 },
 "nbformat": 4,
 "nbformat_minor": 4
}
