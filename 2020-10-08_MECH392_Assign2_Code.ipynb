{
 "cells": [
  {
   "cell_type": "code",
   "execution_count": 1,
   "metadata": {},
   "outputs": [],
   "source": [
    "from math import *\n",
    "import numpy as np\n",
    "# from scipy.optimize import fsolve"
   ]
  },
  {
   "cell_type": "code",
   "execution_count": 2,
   "metadata": {},
   "outputs": [
    {
     "name": "stdout",
     "output_type": "stream",
     "text": [
      "Rmin = 0.1317 [m]\n",
      "ky = 4.6377 [?]\n",
      "\n",
      "kload = 6.6667 [?]\n",
      "deltaK = 5.8344 [?]\n",
      "kfinal = 0.8323 [?]\n",
      "Rfinal = 1.2015 [m]\n",
      "\n",
      "kload = 5.8824 [?]\n",
      "deltaK = 5.5152 [?]\n",
      "kfinal = 0.3672 [?]\n",
      "Rfinal = 2.7234 [m]\n",
      "\n",
      "kload = 5.2632 [?]\n",
      "deltaK = 5.1561 [?]\n",
      "kfinal = 0.1071 [?]\n",
      "Rfinal = 9.3387 [m]\n",
      "\n"
     ]
    }
   ],
   "source": [
    "# Question1\n",
    "\n",
    "t = 2.5E-3 # [m]\n",
    "rho = 2700 # [kg/m^3]\n",
    "E = 69E9 # [Pa]\n",
    "sigmaY = 400E6 # [Pa]\n",
    "sigmaU = 655E6 # [Pa]\n",
    "\n",
    "Rmin = (E*t) / (2*sigmaU)\n",
    "print(\"Rmin = %.4f [m]\" % Rmin)\n",
    "\n",
    "ky = sigmaY / (E * (t/2))\n",
    "print(\"ky = %.4f [?]\\n\" % ky)\n",
    "\n",
    "R = 150E-3 # [m]\n",
    "kload = 1/R\n",
    "deltaK = 1.5 * ky * (1 - (1/3)*(ky/kload)**2)\n",
    "kfinal = kload - deltaK\n",
    "Rfinal = 1/kfinal\n",
    "print(\"kload = %.4f [?]\" % kload)\n",
    "print(\"deltaK = %.4f [?]\" % deltaK)\n",
    "print(\"kfinal = %.4f [?]\" % kfinal)\n",
    "print(\"Rfinal = %.4f [m]\\n\" % Rfinal)\n",
    "\n",
    "R = 170E-3 # [m]\n",
    "kload = 1/R\n",
    "deltaK = 1.5 * ky * (1 - (1/3)*(ky/kload)**2)\n",
    "kfinal = kload - deltaK\n",
    "Rfinal = 1/kfinal\n",
    "print(\"kload = %.4f [?]\" % kload)\n",
    "print(\"deltaK = %.4f [?]\" % deltaK)\n",
    "print(\"kfinal = %.4f [?]\" % kfinal)\n",
    "print(\"Rfinal = %.4f [m]\\n\" % Rfinal)\n",
    "\n",
    "R = 190E-3 # [m]\n",
    "kload = 1/R\n",
    "deltaK = 1.5 * ky * (1 - (1/3)*(ky/kload)**2)\n",
    "kfinal = kload - deltaK\n",
    "Rfinal = 1/kfinal\n",
    "print(\"kload = %.4f [?]\" % kload)\n",
    "print(\"deltaK = %.4f [?]\" % deltaK)\n",
    "print(\"kfinal = %.4f [?]\" % kfinal)\n",
    "print(\"Rfinal = %.4f [m]\\n\" % Rfinal)"
   ]
  },
  {
   "cell_type": "code",
   "execution_count": 3,
   "metadata": {},
   "outputs": [
    {
     "name": "stdout",
     "output_type": "stream",
     "text": [
      "t = 0.8543 [s]\n",
      "t = 0.2136 [s]\n"
     ]
    }
   ],
   "source": [
    "# Question2\n",
    "\n",
    "thickness = 1.2 # [m]\n",
    "\n",
    "rho = 1000 # [kg/m^3]\n",
    "Cp = 1985 # [J/(kgK)]\n",
    "k = 0.5 # [w/(mk)]\n",
    "\n",
    "alpha = (k*rho) / Cp\n",
    "\n",
    "Tmelt = 220 # [deg C]\n",
    "Tmold = 45 # [deg C]\n",
    "Teject = 95 # [deg C]\n",
    "\n",
    "t = ((thickness**2)/(10*alpha)) * log((4/pi)*((Tmelt - Tmold)/(Teject - Tmold)))\n",
    "\n",
    "print(\"t = %.4f [s]\" % t)\n",
    "\n",
    "# -------------------------------------------------------------------------------------------\n",
    "\n",
    "thickness = 1.2/2 # [m]\n",
    "\n",
    "rho = 1000 # [kg/m^3]\n",
    "Cp = 1985 # [J/(kgK)]\n",
    "k = 0.5 # [w/(mk)]\n",
    "\n",
    "alpha = (k*rho) / Cp\n",
    "\n",
    "Tmelt = 220 # [deg C]\n",
    "Tmold = 45 # [deg C]\n",
    "Teject = 95 # [deg C]\n",
    "\n",
    "t = ((thickness**2)/(10*alpha)) * log((4/pi)*((Tmelt - Tmold)/(Teject - Tmold)))\n",
    "\n",
    "print(\"t = %.4f [s]\" % t)\n"
   ]
  },
  {
   "cell_type": "code",
   "execution_count": 4,
   "metadata": {},
   "outputs": [
    {
     "name": "stdout",
     "output_type": "stream",
     "text": [
      "L = 0.2125 [m/s]\n"
     ]
    }
   ],
   "source": [
    "# Question3\n",
    "\n",
    "Q = 100E3 # [W/m^2]\n",
    "Q_Length = 1 # [m]\n",
    "\n",
    "thickness = 1E-3 # [m]\n",
    "rho = 1000 # [kg/m^3]\n",
    "Cp = 2000 # [J/(kgC)]\n",
    "epsilon = 0.85 # []\n",
    "\n",
    "Tforming = 225 # [deg C]\n",
    "Tfactory = 25 # [deg C]\n",
    "\n",
    "L = (epsilon * Q * Q_Length) / (rho * thickness * 1 * Cp * (Tforming - Tfactory))\n",
    "\n",
    "print(\"L = %.4f [m/s]\" % L)"
   ]
  }
 ],
 "metadata": {
  "kernelspec": {
   "display_name": "Python 3",
   "language": "python",
   "name": "python3"
  },
  "language_info": {
   "codemirror_mode": {
    "name": "ipython",
    "version": 3
   },
   "file_extension": ".py",
   "mimetype": "text/x-python",
   "name": "python",
   "nbconvert_exporter": "python",
   "pygments_lexer": "ipython3",
   "version": "3.8.5"
  }
 },
 "nbformat": 4,
 "nbformat_minor": 4
}
