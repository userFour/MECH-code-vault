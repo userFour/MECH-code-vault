{
 "cells": [
  {
   "cell_type": "code",
   "execution_count": null,
   "metadata": {
    "_cell_guid": "b4d2c338-0f6b-4547-b4c5-886e33333fc0",
    "_uuid": "4d1d66c7-9f84-45d6-a23f-4d746456e3c2"
   },
   "outputs": [],
   "source": [
    "from math import *\n",
    "import numpy as np\n",
    "# from scipy.optimize import fsolve"
   ]
  },
  {
   "cell_type": "code",
   "execution_count": null,
   "metadata": {
    "_cell_guid": "5c669969-2b27-4bba-8cab-77922412f005",
    "_uuid": "35b0b70e-3095-434a-97ea-2f7cf5693474"
   },
   "outputs": [],
   "source": [
    "# Question1\n",
    "\n",
    "cutting_speed = 165E-3 # [m/s]\n",
    "feed_speed = 0.25E-3 # [m/rev]\n",
    "cut_depth = 5E-3 # [m]\n",
    "efficiency = 0.85 # [ ]\n",
    "cutting_energy = 1.6E9 # [(w*s)/m^3]\n",
    "\n",
    "# Get the volumetric removal rate, multiply it\n",
    "# by cutting energy\n",
    "\n",
    "volume = (cutting_speed * 1.0) * feed_speed * cut_depth\n",
    "\n",
    "power = cutting_energy * volume\n",
    "\n",
    "actual_power = power / efficiency\n",
    "\n",
    "print(\"V = %.4e \\n\" % volume)\n",
    "print(\"Power = %.4e \\n\" % power)\n",
    "print(\"Actual Power = %.4e\" % actual_power)"
   ]
  },
  {
   "cell_type": "code",
   "execution_count": null,
   "metadata": {
    "_cell_guid": "4e67abe6-3015-4c44-acbe-2e3997cdeb0d",
    "_uuid": "aac448b5-4854-4cc1-863d-5b82dc151d66"
   },
   "outputs": [],
   "source": [
    "# Question2\n",
    "\n",
    "alpha = 10 # [deg]\n",
    "t0 = 0.5 # [mm]\n",
    "tc = 1.25 # [mm]\n",
    "\n",
    "r = t0 / tc\n",
    "\n",
    "radAlpha = radians(alpha)\n",
    "radPhi = atan((r*cos(radAlpha) / (1 - r*sin(radAlpha))))\n",
    "\n",
    "radBeta = (radPhi - radians(45) - (radAlpha/2)) * (-2)\n",
    "degBeta = degrees(radBeta)\n",
    "mu = tan(radBeta)\n",
    "\n",
    "degPhi = degrees(radPhi)\n",
    "\n",
    "print(\"r = %.4e \\n\" % r)\n",
    "print(\"phi = %.4f \\n\" % degPhi)\n",
    "print(\"radBeta = %.4e \\n\" % radBeta)\n",
    "print(\"degBeta = %.4e \\n\" % degBeta)\n",
    "print(\"mu = %.4e \\n\" % mu)"
   ]
  },
  {
   "cell_type": "code",
   "execution_count": null,
   "metadata": {
    "_cell_guid": "1fadc02a-4a72-44e7-9d10-ee3b8c6fb27d",
    "_uuid": "0c3b2cbe-76be-4673-90fe-97aa9365db96"
   },
   "outputs": [],
   "source": [
    "# Question5\n",
    "\n",
    "x = 85E-3 # [m]\n",
    "a = 70E-3 # [m]\n",
    "F = 125 # [N]\n",
    "R_y = F # [N]\n",
    "M_y = F * (70E-3 + (15E-3/2)) # [Nm]\n",
    "Wo = F / 15E-3 # [N/m]\n",
    "\n",
    "R = 5E-3 # [m]\n",
    "E = 272E9 # [Pa]\n",
    "I = (pi/4) * R**4 # [m^4]\n",
    "\n",
    "# y = (1/(E*I)) * (((-1/2)*M_y*(x**2)) + ((1/6)*R_y*(x**3)) - ((1/24)*Wo*((x-a)**4)) - ((1/6)*Wo*(a**3)*x) - ((1/24)*Wo*(a**4)))\n",
    "y = (1/(E*I)) * (((-1/2)*M_y*(x**2)) + ((1/6)*R_y*(x**3)) - ((1/24)*Wo*((x-a)**4)))\n",
    "\n",
    "print(\"I = %.4e\" % I)\n",
    "print(\"Wo = %.4e\" % Wo)\n",
    "print(\"M_y = %.4e\" % M_y)\n",
    "print(\"R_y = %.4e\" % R_y)\n",
    "print(\"y = %.8f\" % y)\n",
    "\n",
    "worstCaseDeflection = (F*(x**3)) / (3*E*I)\n",
    "print(\"Worst Case Deflection = %.8f\" % worstCaseDeflection)\n"
   ]
  }
 ],
 "metadata": {
  "kernelspec": {
   "display_name": "Python 3",
   "language": "python",
   "name": "python3"
  },
  "language_info": {
   "codemirror_mode": {
    "name": "ipython",
    "version": 3
   },
   "file_extension": ".py",
   "mimetype": "text/x-python",
   "name": "python",
   "nbconvert_exporter": "python",
   "pygments_lexer": "ipython3",
   "version": "3.8.5"
  }
 },
 "nbformat": 4,
 "nbformat_minor": 4
}
