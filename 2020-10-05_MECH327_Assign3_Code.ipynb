{
 "cells": [
  {
   "cell_type": "code",
   "execution_count": 3,
   "metadata": {},
   "outputs": [
    {
     "name": "stdout",
     "output_type": "stream",
     "text": [
      "Sucess!\n"
     ]
    }
   ],
   "source": [
    "from math import *\n",
    "import numpy as np\n",
    "# from scipy.optimize import fsolve\n",
    "# import matplotlib\n",
    "# import matplotlib.pyplot as plt\n",
    "\n",
    "print(\"Sucess!\")"
   ]
  },
  {
   "cell_type": "code",
   "execution_count": 18,
   "metadata": {},
   "outputs": [
    {
     "name": "stdout",
     "output_type": "stream",
     "text": [
      "u2 = 536.3850 [kJ/kg]\n",
      "m = 1.0521 [kg]\n",
      "W = 338.8025 [kJ]\n",
      "wdot = 1.1293 [kW]\n"
     ]
    }
   ],
   "source": [
    "# Question1\n",
    "\n",
    "t = 300 # [s]\n",
    "\n",
    "V = 0.9 # [m^3]\n",
    "rho = 1.169 # [m^3/kg]\n",
    "\n",
    "u1 = 214.36 # [kJ/kg]\n",
    "xVals = np.array([720, 740])\n",
    "yVals = np.array([528.44, 544.33])\n",
    "u2 = np.interp(730, xVals, yVals)\n",
    "print(\"u2 = %0.4f [kJ/kg]\" % u2)\n",
    "\n",
    "m = rho * V\n",
    "print(\"m = %0.4f [kg]\" % m)\n",
    "\n",
    "W = m * (u2 - u1)\n",
    "print(\"W = %0.4f [kJ]\" % W)\n",
    "\n",
    "wdot = W / t\n",
    "print(\"wdot = %0.4f [kW]\" % wdot)"
   ]
  },
  {
   "cell_type": "code",
   "execution_count": 12,
   "metadata": {},
   "outputs": [
    {
     "name": "stdout",
     "output_type": "stream",
     "text": [
      "v2 = 0.2039\n",
      "m2 = 2.9423\n",
      "h1_300 = 3037.5900\n",
      "h1_350 3147.4150\n",
      "h1 = 3081.5200\n",
      "h2 = 3255.7950\n",
      "W = 512.7620\n"
     ]
    }
   ],
   "source": [
    "# Question2\n",
    "\n",
    "V2 = 0.6 # [m^3]\n",
    "\n",
    "xVals = np.array([1400, 1600])\n",
    "yVals = np.array([0.21780, 0.19005])\n",
    "v2 = np.interp(1500, xVals, yVals)\n",
    "print(\"v2 = %0.4f\" % v2)\n",
    "\n",
    "m2 = V2 / v2\n",
    "print(\"m2 = %0.4f\" % m2)\n",
    "\n",
    "h1_300 = (1/2) * (3040.35 + 3034.83)\n",
    "print(\"h1_300 = %0.4f\" % h1_300)\n",
    "\n",
    "h1_350 = (1/2) * (3149.48 + 3145.35)\n",
    "print(\"h1_350 %0.4f\" % h1_350)\n",
    "\n",
    "xVals = np.array([300, 350])\n",
    "yVals = np.array([3037.59, 3147.4150])\n",
    "h1 = np.interp(320, xVals, yVals)\n",
    "print(\"h1 = %0.4f\" % h1)\n",
    "\n",
    "h2 = (1/2) * (3257.42 + 3254.17)\n",
    "print(\"h2 = %0.4f\" % h2)\n",
    "\n",
    "W = m2 * (h2 - h1)\n",
    "print(\"W = %0.4f\" % W)"
   ]
  },
  {
   "cell_type": "code",
   "execution_count": 16,
   "metadata": {},
   "outputs": [
    {
     "name": "stdout",
     "output_type": "stream",
     "text": [
      "Area = 1.4682e-02\n",
      "h2 = 2992447.5000\n",
      "v1400 = 0.1743\n",
      "v1600 = 0.1525\n",
      "v2 = 0.1634\n",
      "Area = 4.9142e-04\n"
     ]
    }
   ],
   "source": [
    "# Question3\n",
    "\n",
    "mdot = 2 # [kg/s]\n",
    "v1 = 0.07341 # [m^3/kg]\n",
    "vel1 = 10 # [m/s]\n",
    "\n",
    "Area = mdot * ((1/v1 * vel1)**(-1))\n",
    "print(\"Area = %0.4e\" % Area)\n",
    "\n",
    "h1 = 3213.51E3 # [J/kg]\n",
    "vel2 = 665 # [m/s]\n",
    "h2 = h1 + (1/2)*(vel1**2 - vel2**2)\n",
    "print(\"h2 = %0.4f\" % h2)\n",
    "\n",
    "# Interpolate to find v at 1400 kPa\n",
    "xVals = np.array([2927.22, 3040.35])\n",
    "yVals = np.array([0.16350, 0.18228])\n",
    "v1400 = np.interp(2992.4475, xVals, yVals)\n",
    "print(\"v1400 = %0.4f\" % v1400)\n",
    "\n",
    "# Interpolate to find v at 1600 kPa\n",
    "xVals = np.array([2919.20, 3034.83])\n",
    "yVals = np.array([0.14184, 0.15862])\n",
    "v1600 = np.interp(2992.4475, xVals, yVals)\n",
    "print(\"v1600 = %0.4f\" % v1600)\n",
    "\n",
    "# Average to find v2 at 1500 kPa\n",
    "v2 = (1/2)*(v1400+v1600)\n",
    "print(\"v2 = %0.4f\" % v2)\n",
    "\n",
    "Area = mdot * ((1/v2 * vel2)**(-1))\n",
    "print(\"Area = %0.4e\" % Area)"
   ]
  },
  {
   "cell_type": "code",
   "execution_count": 6,
   "metadata": {},
   "outputs": [
    {
     "name": "stdout",
     "output_type": "stream",
     "text": [
      "T2 = -5.5257 [C]\n",
      "hf = 192.6261 [kJ/kg]\n",
      "hfg = 202.3922 [kJ/kg]\n",
      "h = 253.3437 [kJ/kg]\n",
      "hf = 266.0559 [kJ/kg]\n",
      "T1 = 37.8519 [Deg C]\n"
     ]
    }
   ],
   "source": [
    "# Question4\n",
    "\n",
    "# Interpolate to find T at 240 kPa\n",
    "xVals = np.array([201.7, 244.5])\n",
    "yVals = np.array([-10, -5])\n",
    "T2 = np.interp(240, xVals, yVals)\n",
    "print(\"T2 = %0.4f [C]\" % T2)\n",
    "\n",
    "# Interpolate to find hf at 240 kPa\n",
    "xVals = np.array([201.7, 244.5])\n",
    "yVals = np.array([186.72, 193.32])\n",
    "hf = np.interp(240, xVals, yVals)\n",
    "print(\"hf = %0.4f [kJ/kg]\" % hf)\n",
    "\n",
    "# Interpolate to find hfg at 240 kPa\n",
    "xVals = np.array([201.7, 244.5])\n",
    "yVals = np.array([205.56, 202.02])\n",
    "hfg = np.interp(240, xVals, yVals)\n",
    "print(\"hfg = %0.4f [kJ/kg]\" % hfg)\n",
    "\n",
    "# Calculate h2 = h1\n",
    "x = 0.3\n",
    "h = hf + x*hfg\n",
    "print(\"h = %0.4f [kJ/kg]\" % h)\n",
    "\n",
    "# Interpolate to find hf at 1200 kPa\n",
    "xVals = np.array([1160.2, 1318.1])\n",
    "yVals = np.array([264.11, 271.83])\n",
    "hf = np.interp(1200, xVals, yVals)\n",
    "print(\"hf = %0.4f [kJ/kg]\" % hf)\n",
    "\n",
    "# Interpolate to find T1 given h = hf(T)\n",
    "xVals = np.array([249.1, 256.54])\n",
    "yVals = np.array([35, 40])\n",
    "T1 = np.interp(253.3437, xVals, yVals)\n",
    "print(\"T1 = %0.4f [Deg C]\" % T1)"
   ]
  }
 ],
 "metadata": {
  "kernelspec": {
   "display_name": "Python 3",
   "language": "python",
   "name": "python3"
  },
  "language_info": {
   "codemirror_mode": {
    "name": "ipython",
    "version": 3
   },
   "file_extension": ".py",
   "mimetype": "text/x-python",
   "name": "python",
   "nbconvert_exporter": "python",
   "pygments_lexer": "ipython3",
   "version": "3.8.5"
  }
 },
 "nbformat": 4,
 "nbformat_minor": 4
}
