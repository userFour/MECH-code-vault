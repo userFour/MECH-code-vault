{
 "cells": [
  {
   "cell_type": "code",
   "execution_count": 13,
   "metadata": {},
   "outputs": [
    {
     "name": "stdout",
     "output_type": "stream",
     "text": [
      "Sucess!\n"
     ]
    }
   ],
   "source": [
    "from math import *\n",
    "import numpy as np\n",
    "from scipy.optimize import fsolve\n",
    "import matplotlib\n",
    "import matplotlib.pyplot as plt\n",
    "\n",
    "print(\"Sucess!\")"
   ]
  },
  {
   "cell_type": "code",
   "execution_count": 14,
   "metadata": {},
   "outputs": [
    {
     "name": "stdout",
     "output_type": "stream",
     "text": [
      "phi = 45.5730 [deg]\n",
      "n = 1145.9156 [rpm]\n",
      "f_z = 0.0056 [in]\n",
      "V_f = 38.5105 [in/min]\n",
      "MRR = 83.1826 [lb/hr]\n"
     ]
    }
   ],
   "source": [
    "# Question1\n",
    "\n",
    "dia = 1.00 #[in]\n",
    "surf_spd = 300 #[sfm]\n",
    "h_ex = 0.004 #[in]\n",
    "Z_n = 6 #[]\n",
    "rho = 0.16 #[lb/in^3]\n",
    "\n",
    "doc_axial = 1.5 # [in]\n",
    "doc_radial = 0.15 # [in]\n",
    "\n",
    "phi = degrees(acos((dia/2 - doc_radial)*(2/dia)))\n",
    "print(\"phi = %0.4f [deg]\" % phi)\n",
    "\n",
    "n = (300*12)/(pi*dia)\n",
    "print(\"n = %0.4f [rpm]\" % n)\n",
    "\n",
    "f_z = h_ex / (sin(radians(phi)))\n",
    "print(\"f_z = %0.4f [in]\" % f_z)\n",
    "\n",
    "V_f = f_z * Z_n * n\n",
    "print(\"V_f = %0.4f [in/min]\" % V_f)\n",
    "\n",
    "MRR = doc_radial * doc_axial * V_f\n",
    "MRR = MRR * rho * 60\n",
    "print(\"MRR = %0.4f [lb/hr]\" % MRR)"
   ]
  },
  {
   "cell_type": "code",
   "execution_count": 15,
   "metadata": {},
   "outputs": [
    {
     "name": "stdout",
     "output_type": "stream",
     "text": [
      "f_z = 0.1524 [mm]\n",
      "V_f = 18288.0000 [mm/min]\n",
      "a_e = 50.0000 [mm]\n",
      "a_p = 6.3500 [mm]\n",
      "mrr = 5806440.0000 [mm^3/min]\n",
      "h_m = 0.0970 [mm]\n",
      "k_c = 675.8579 [N/mm^2]\n",
      "P = 65.4055 [kW]\n",
      "M = 20.8192 [N/m]\n",
      "\n",
      "doc_axial_p_opt = 12.6213 [mm]\n",
      "P_torque = 125.6637 [kW]\n",
      "doc_axial_t_opt = 12.2003 [mm]\n"
     ]
    }
   ],
   "source": [
    "# Question2\n",
    "\n",
    "dia = 50 #[mm]\n",
    "n = 30000 #[rpm]\n",
    "doc_axial = a_p = 0.25*25.4 #[mm]\n",
    "rake = 8 #[deg]\n",
    "f_z = 0.006*25.4 #[mm]\n",
    "z_n = 4 #[]\n",
    "\n",
    "print(\"f_z = %0.4f [mm]\" % f_z)\n",
    "\n",
    "V_f = f_z * z_n * n\n",
    "print(\"V_f = %0.4f [mm/min]\" % V_f)\n",
    "\n",
    "# Since this is a slotting cut, we have doc_radial = dia\n",
    "a_e = dia\n",
    "print(\"a_e = %0.4f [mm]\" % a_e)\n",
    "print(\"a_p = %0.4f [mm]\" % a_p)\n",
    "mrr = a_e * a_p * V_f\n",
    "print(\"mrr = %0.4f [mm^3/min]\" % mrr)\n",
    " \n",
    "# ---------------------------------------------------------------------------------\n",
    "# Compute the average chip thickness\n",
    "k_r = 90\n",
    "h_m = (sin(radians(k_r))*180*a_e*f_z) / degrees((pi*dia*asin(a_e/dia)))\n",
    "print(\"h_m = %0.4f [mm]\" % h_m)\n",
    "\n",
    "# ---------------------------------------------------------------------------------\n",
    "\n",
    "# Compute cutting coefficient k_c\n",
    "k_c1 = 410 #[N/mm^2]\n",
    "m_c = 0.25 #[]\n",
    "k_c = k_c1*(h_m)**(-m_c)*(1-(rake/100))\n",
    "print(\"k_c = %0.4f [N/mm^2]\" % k_c)\n",
    "\n",
    "# Compute power to run the machine\n",
    "P = (mrr * k_c) / 60E6\n",
    "print(\"P = %0.4f [kW]\" % P)\n",
    "\n",
    "# Compute torque to run the machine\n",
    "M = (P*30E3) / (pi*n)\n",
    "print(\"M = %0.4f [N/m]\" % M)\n",
    "\n",
    "\n",
    "# ---------------------------------------------------------------------------------\n",
    "# Compute the max permissible axial DoC from power limitations\n",
    "\n",
    "# Set equation == 0 and solve with fsolve\n",
    "fxn = lambda x: k_c/60E6 * a_e * x * V_f - 130\n",
    "doc_axial_p_opt = fsolve(fxn, 1)\n",
    "print(\"\\ndoc_axial_p_opt = %0.4f [mm]\" % doc_axial_p_opt)\n",
    "\n",
    "# ---------------------------------------------------------------------------------\n",
    "# Compute the max permissible axial DoC from torque limitations\n",
    "\n",
    "# Compute the max permissible power from torque limitation\n",
    "fxn = lambda x: 30E3 * x / (pi * n) - 40\n",
    "P_torque = fsolve(fxn, 100)\n",
    "print(\"P_torque = %0.4f [kW]\" % P_torque)\n",
    "\n",
    "# Compute the max permissible axial DoC using new power limitation\n",
    "fxn = lambda x: k_c/60E6 * a_e * x * V_f - P_torque\n",
    "doc_axial_t_opt = fsolve(fxn, 1)\n",
    "print(\"doc_axial_t_opt = %0.4f [mm]\" % doc_axial_t_opt)\n"
   ]
  },
  {
   "cell_type": "code",
   "execution_count": null,
   "metadata": {},
   "outputs": [],
   "source": []
  }
 ],
 "metadata": {
  "kernelspec": {
   "display_name": "Python 3 (ipykernel)",
   "language": "python",
   "name": "python3"
  },
  "language_info": {
   "codemirror_mode": {
    "name": "ipython",
    "version": 3
   },
   "file_extension": ".py",
   "mimetype": "text/x-python",
   "name": "python",
   "nbconvert_exporter": "python",
   "pygments_lexer": "ipython3",
   "version": "3.9.7"
  }
 },
 "nbformat": 4,
 "nbformat_minor": 4
}
