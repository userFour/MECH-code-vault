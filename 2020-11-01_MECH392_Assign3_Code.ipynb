{
 "cells": [
  {
   "cell_type": "code",
   "execution_count": 16,
   "metadata": {},
   "outputs": [
    {
     "name": "stdout",
     "output_type": "stream",
     "text": [
      "Sucess!\n"
     ]
    }
   ],
   "source": [
    "from math import *\n",
    "import numpy as np\n",
    "from scipy.optimize import fsolve\n",
    "# import matplotlib\n",
    "# import matplotlib.pyplot as plt\n",
    "\n",
    "print(\"Sucess!\")"
   ]
  },
  {
   "cell_type": "code",
   "execution_count": 6,
   "metadata": {},
   "outputs": [
    {
     "name": "stdout",
     "output_type": "stream",
     "text": [
      "V = 12.0000 [m^3]\n",
      "SA = 38.0000 [m^2]\n",
      "B = 100.2778 [s/m^2]\n"
     ]
    }
   ],
   "source": [
    "# Question1\n",
    "t = 10\n",
    "V = 1 * 3 * 4\n",
    "print(\"V = %0.4f [m^3]\" % V)\n",
    "SA  = (2 * 1 * 3) + (2 * 1 * 4) + (2 * 3 * 4)\n",
    "print(\"SA = %0.4f [m^2]\" % SA)\n",
    "mold_constant = B = t * ((V/SA)**(-2))\n",
    "print(\"B = %0.4f [s/m^2]\" % B)"
   ]
  },
  {
   "cell_type": "code",
   "execution_count": 33,
   "metadata": {},
   "outputs": [
    {
     "name": "stdout",
     "output_type": "stream",
     "text": [
      "V = 0.0002 [m^3]\n",
      "SA = 0.0267 [m^2]\n",
      "B = 2.0354e+06 [s/m^2]\n",
      "gamma = 0.0461 [m]\n"
     ]
    }
   ],
   "source": [
    "# Question2\n",
    "# 120 - 2.0354E6 * ((7.5E-2*12.5E-2*2.0E-2 + (pi/4)*x^3) / (2*(7.5E-2*12.5E-2 + 7.5E-2*2.0E-2 + 12.5E-2*2.0E-2) + pi*x^2 - (pi/4)*(x^2)))^2 = 0\n",
    "\n",
    "t = 100\n",
    "l = 7.5E-2\n",
    "w = 12.5E-2\n",
    "h = 2.0E-2\n",
    "V = l * w * h\n",
    "print(\"V = %0.4f [m^3]\" % V)\n",
    "SA  = (2 * l * w) + (2 * l * h) + (2 * w * h)\n",
    "print(\"SA = %0.4f [m^2]\" % SA)\n",
    "mold_constant = B = t * ((V/SA)**(-2))\n",
    "print(\"B = %0.4e [s/m^2]\" % B)\n",
    "\n",
    "# fxn = lambda x: 120 - B * ((l*w*h + (pi/4)*x**3) / (2*(l*w + l*h + w*h) + pi*x**2 - (pi/4)*(x**2)))**2\n",
    "# gamma = fsolve(fxn, 1)\n",
    "# print(\"gamma = %0.4f [m]\" % gamma)\n",
    "\n",
    "# V = pi/4 * gamma^3\n",
    "# SA = pi*gamma^2 + 2*(pi/4*x**2)\n",
    "\n",
    "fxn = lambda x: 120 - B * ((pi/4 * x**3) / (pi*x**2 + 2*(pi/4*x**2)))**2\n",
    "gamma = fsolve(fxn, 0.5)\n",
    "print(\"gamma = %0.4f [m]\" % gamma)\n"
   ]
  },
  {
   "cell_type": "code",
   "execution_count": 10,
   "metadata": {},
   "outputs": [
    {
     "name": "stdout",
     "output_type": "stream",
     "text": [
      "N = 655.2794 [rpm]\n",
      "N = 756.6515 [rpm]\n"
     ]
    }
   ],
   "source": [
    "# Question4\n",
    "\n",
    "g = 9.81\n",
    "\n",
    "diameter1 = 22.5E-2\n",
    "diameter2 = 25E-2\n",
    "\n",
    "GF = 60\n",
    "N = 30 / pi * sqrt(2*g*GF / diameter2)\n",
    "print(\"N = %0.4f [rpm]\" % N)\n",
    "\n",
    "GF = 80\n",
    "N = 30 / pi * sqrt(2*g*GF / diameter2)\n",
    "print(\"N = %0.4f [rpm]\" % N)"
   ]
  },
  {
   "cell_type": "code",
   "execution_count": null,
   "metadata": {},
   "outputs": [],
   "source": []
  }
 ],
 "metadata": {
  "kernelspec": {
   "display_name": "Python 3",
   "language": "python",
   "name": "python3"
  },
  "language_info": {
   "codemirror_mode": {
    "name": "ipython",
    "version": 3
   },
   "file_extension": ".py",
   "mimetype": "text/x-python",
   "name": "python",
   "nbconvert_exporter": "python",
   "pygments_lexer": "ipython3",
   "version": "3.8.5"
  }
 },
 "nbformat": 4,
 "nbformat_minor": 4
}
