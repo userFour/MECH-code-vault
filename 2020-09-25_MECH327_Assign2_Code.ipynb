{
 "cells": [
  {
   "cell_type": "code",
   "execution_count": 1,
   "metadata": {
    "_cell_guid": "b1076dfc-b9ad-4769-8c92-a6c4dae69d19",
    "_uuid": "8f2839f25d086af736a60e9eeb907d3b93b6e0e5"
   },
   "outputs": [
    {
     "name": "stdout",
     "output_type": "stream",
     "text": [
      "Sucess!\n"
     ]
    }
   ],
   "source": [
    "from math import *\n",
    "import numpy as np\n",
    "# from scipy.optimize import fsolve\n",
    "import matplotlib\n",
    "import matplotlib.pyplot as plt\n",
    "\n",
    "print(\"Sucess!\")"
   ]
  },
  {
   "cell_type": "code",
   "execution_count": 7,
   "metadata": {
    "_cell_guid": "79c7e3d0-c299-4dcb-8224-4455121ee9b0",
    "_uuid": "d629ff2d2480ee46fbb7e2d37f6b5fab8052498a"
   },
   "outputs": [
    {
     "name": "stdout",
     "output_type": "stream",
     "text": [
      "V_f = 1.3333e-02\n",
      "V_g = 6.6667e-03\n",
      "m = 6.9278e+00\n",
      "\n",
      "\n",
      "x = 0.0140\n",
      "Hello from a function\n"
     ]
    }
   ],
   "source": [
    "# Question1\n",
    "\n",
    "v_f = 1.952E-3 # [m^3/kg]\n",
    "v_g = 0.06858 # [m^3/kg]\n",
    "volume = 20 # [L]\n",
    "V = volume * (1/1000) # [m^3]\n",
    "\n",
    "V_f = (2/3)*V # [m^3]\n",
    "V_g = (1/3)*V # [m^3]\n",
    "\n",
    "m = ((1/v_f)*V_f) + ((1/v_g)*V_g) # [kg]\n",
    "\n",
    "print(\"V_f = %0.4e\" % V_f)\n",
    "print(\"V_g = %0.4e\" % V_g)\n",
    "print(\"m = %0.4e\" % m)\n",
    "print(\"\\n\")\n",
    "\n",
    "x = ((1/v_g)*V_g) / ((1/v_f)*V_f + (1/v_g)*V_g)\n",
    "\n",
    "print(\"x = %0.4f\" % x)"
   ]
  },
  {
   "cell_type": "code",
   "execution_count": 3,
   "metadata": {},
   "outputs": [
    {
     "name": "stdout",
     "output_type": "stream",
     "text": [
      "Cp_theta for T=298.0 [k] = 1.0397\n",
      "Cv_theta for T=298.0 [k] = 0.7432\n"
     ]
    }
   ],
   "source": [
    "# Question5\n",
    "\n",
    "# A) Find Cp and Cv at 298K for CO and compare to tabulated values\n",
    "T = 298 # [k]\n",
    "theta = T / 1000 # [k]\n",
    "k = 1.399\n",
    "\n",
    "C_0 = 1.10\n",
    "C_1 = -0.46\n",
    "C_2 = 1.0\n",
    "C_3 = -0.454\n",
    "\n",
    "Cp_theta = C_0 + (C_1 * theta) + (C_2 * theta**2) + (C_3 * theta**3)\n",
    "Cv_theta = Cp_theta / k\n",
    "\n",
    "print(\"Cp_theta for T=%0.1f [k] = %0.4f\" % (T, Cp_theta))\n",
    "print(\"Cv_theta for T=%0.1f [k] = %0.4f\" % (T, Cv_theta))"
   ]
  },
  {
   "cell_type": "code",
   "execution_count": 3,
   "metadata": {},
   "outputs": [
    {
     "data": {
      "image/png": "[encoded data removed]",
      "text/plain": [
       "<Figure size 432x288 with 1 Axes>"
      ]
     },
     "metadata": {
      "needs_background": "light"
     },
     "output_type": "display_data"
    }
   ],
   "source": [
    "# Question5\n",
    "\n",
    "# B) Find the specific heat capacity at 500 K and 1200 K. Comment on the trend that you observe\n",
    "\n",
    "temperatures = np.array([298, 300, 357, 400, 500, 600, 700, 800, 900, 1000, 1100, 1200]) # [k]\n",
    "num_cols = temperatures.size\n",
    "xVals = np.zeros(num_cols)\n",
    "yVals = np.zeros(num_cols)\n",
    "\n",
    "k = 1.399\n",
    "\n",
    "C_0 = 1.10\n",
    "C_1 = -0.46\n",
    "C_2 = 1.0\n",
    "C_3 = -0.454\n",
    "\n",
    "for index, T in enumerate(temperatures):\n",
    "\n",
    "    theta = T / 1000 # [k]\n",
    "\n",
    "    Cp_theta = C_0 + (C_1 * theta) + (C_2 * theta**2) + (C_3 * theta**3)\n",
    "    Cv_theta = Cp_theta / k\n",
    "\n",
    "    # print(\"Cp_theta for T=%0.1f [k] = %0.4f\" % (T, Cp_theta))\n",
    "    # print(\"Cv_theta for T=%0.1f [k] = %0.4f\" % (T, Cv_theta))\n",
    "    # print(\"\\n\")\n",
    "\n",
    "    xVals[index] = T\n",
    "    yVals[index] = Cp_theta\n",
    "\n",
    "\n",
    "\n",
    "plt.plot(xVals, yVals, 'bo')\n",
    "plt.title(\"Temperature and Cp\")\n",
    "plt.grid(True)\n",
    "\n"
   ]
  },
  {
   "cell_type": "code",
   "execution_count": 3,
   "metadata": {},
   "outputs": [
    {
     "name": "stdout",
     "output_type": "stream",
     "text": [
      "deltaH = 211.7717\n"
     ]
    }
   ],
   "source": [
    "# Question5\n",
    "\n",
    "# C) Modify your script to find the change in enthalpy for Carbon Monoxide between 298 K and 500 K\n",
    "# Recall deltaH = Cp * deltaT --> integrate numerically\n",
    "\n",
    "temperature1 = 298 # [k]\n",
    "temperature2 = 500 # [k]\n",
    "\n",
    "k = 1.399\n",
    "\n",
    "C_0 = 1.10\n",
    "C_1 = -0.46\n",
    "C_2 = 1.0\n",
    "C_3 = -0.454\n",
    "\n",
    "# Set up the integration\n",
    "temperatureVals = np.linspace(temperature1, temperature2, 1000)\n",
    "CpVals = np.zeros(temperatureVals.shape, dtype = float)\n",
    "\n",
    "# Fill in the CpVals\n",
    "for index, T in enumerate(temperatureVals):\n",
    "\n",
    "    theta = temperatureVals[index] / 1000\n",
    "    Cp = C_0 + (C_1 * theta) + (C_2 * theta**2) + (C_3 * theta**3)\n",
    "    CpVals[index] = Cp\n",
    "\n",
    "# Perform the integration using trapezoidal rule\n",
    "deltaH = 0\n",
    "for index, T in enumerate(temperatureVals[:-1]):\n",
    "    \n",
    "    deltaH += (temperatureVals[index+1] - temperatureVals[index]) * ((1/2) * (CpVals[index] +  CpVals[index+1]))\n",
    "    # deltaH += (CpVals[index+1] * temperatureVals[index+1]) - (CpVals[index] * temperatureVals[index])\n",
    "    # print(deltaH)\n",
    "\n",
    "print(\"deltaH = %0.4f\" % deltaH)\n",
    "\n"
   ]
  },
  {
   "cell_type": "code",
   "execution_count": 6,
   "metadata": {},
   "outputs": [
    {
     "name": "stdout",
     "output_type": "stream",
     "text": [
      "Cp_theta = 1.0397\n",
      "deltaH = 210.0213\n"
     ]
    }
   ],
   "source": [
    "# Question5\n",
    "\n",
    "# D) Calculate the enthalpy change between 298 K and 500 K assuming constant Cp at 298 [k]\n",
    "\n",
    "temperature1 = 298 # [k]\n",
    "temperature2 = 500 # [k]\n",
    "\n",
    "theta = temperature1 / 1000 # [k]\n",
    "\n",
    "C_0 = 1.10\n",
    "C_1 = -0.46\n",
    "C_2 = 1.0\n",
    "C_3 = -0.454\n",
    "\n",
    "Cp_theta = C_0 + (C_1 * theta) + (C_2 * theta**2) + (C_3 * theta**3)\n",
    "\n",
    "deltaH = Cp_theta*temperature2 - Cp_theta*temperature1\n",
    "\n",
    "print(\"Cp_theta = %0.4f\" % Cp_theta)\n",
    "print(\"deltaH = %0.4f\" % deltaH)"
   ]
  },
  {
   "cell_type": "code",
   "execution_count": 8,
   "metadata": {},
   "outputs": [
    {
     "name": "stdout",
     "output_type": "stream",
     "text": [
      "deltaH_accurate = 211.7717\n",
      "deltaH_table = 210.2820\n"
     ]
    }
   ],
   "source": [
    "# Question5\n",
    "\n",
    "# E) Compare the enthalpy change calculated using your script, the constant cp assumption, and tabulated values\n",
    "# Comment on which you believe to be the most accurate.\n",
    "\n",
    "temperature1 = 298 # [k]\n",
    "temperature2 = 500 # [k]\n",
    "\n",
    "theta1 = temperature1 / 1000 # [k]\n",
    "theta2 = temperature2 / 1000 # [k]\n",
    "\n",
    "C_0 = 1.10\n",
    "C_1 = -0.46\n",
    "C_2 = 1.0\n",
    "C_3 = -0.454\n",
    "\n",
    "# Set up the integration\n",
    "temperatureVals = np.linspace(temperature1, temperature2, 1000)\n",
    "CpVals = np.zeros(temperatureVals.shape, dtype = float)\n",
    "\n",
    "# Fill in the CpVals\n",
    "for index, T in enumerate(temperatureVals):\n",
    "\n",
    "    theta = temperatureVals[index] / 1000\n",
    "    Cp = C_0 + (C_1 * theta) + (C_2 * theta**2) + (C_3 * theta**3)\n",
    "    CpVals[index] = Cp\n",
    "\n",
    "# Perform the integration using trapezoidal rule\n",
    "deltaH_accurate = 0\n",
    "for index, T in enumerate(temperatureVals[:-1]):\n",
    "    \n",
    "    deltaH_accurate += (temperatureVals[index+1] - temperatureVals[index]) * ((1/2) * (CpVals[index] +  CpVals[index+1]))\n",
    "    # deltaH += (CpVals[index+1] * temperatureVals[index+1]) - (CpVals[index] * temperatureVals[index])\n",
    "    # print(deltaH)\n",
    "    \n",
    "# ---------------------------------------------------------------------------------------------------------------\n",
    "\n",
    "Cp_table = 1.041 # []\n",
    "\n",
    "deltaH_table = Cp_table*temperature2 - Cp_table*temperature1\n",
    "\n",
    "print(\"deltaH_accurate = %0.4f\" % deltaH_accurate)\n",
    "print(\"deltaH_table = %0.4f\" % deltaH_table)\n",
    "\n",
    "\n"
   ]
  },
  {
   "cell_type": "code",
   "execution_count": 6,
   "metadata": {},
   "outputs": [],
   "source": []
  }
 ],
 "metadata": {
  "kernelspec": {
   "display_name": "Python 3",
   "language": "python",
   "name": "python3"
  },
  "language_info": {
   "codemirror_mode": {
    "name": "ipython",
    "version": 3
   },
   "file_extension": ".py",
   "mimetype": "text/x-python",
   "name": "python",
   "nbconvert_exporter": "python",
   "pygments_lexer": "ipython3",
   "version": "3.8.5"
  }
 },
 "nbformat": 4,
 "nbformat_minor": 4
}
