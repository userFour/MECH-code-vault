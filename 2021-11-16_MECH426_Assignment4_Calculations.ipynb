{
 "cells": [
  {
   "cell_type": "code",
   "execution_count": null,
   "metadata": {
    "colab": {
     "base_uri": "https://localhost:8080/"
    },
    "id": "mXXqfcF0KWpe",
    "outputId": "394869df-c3eb-4ea3-e589-eee5a7cf42b7"
   },
   "outputs": [
    {
     "name": "stdout",
     "output_type": "stream",
     "text": [
      "Sucess!\n"
     ]
    }
   ],
   "source": [
    "# ---------------------- IMPORT THE LIBRARIES ----------------------\n",
    "from math import *\n",
    "import numpy as np\n",
    "from scipy.optimize import fsolve\n",
    "from scipy import signal\n",
    "import matplotlib\n",
    "import matplotlib.pyplot as plt\n",
    "\n",
    "print(\"Sucess!\")"
   ]
  },
  {
   "cell_type": "code",
   "execution_count": null,
   "metadata": {
    "id": "5feXlMRKXjp3"
   },
   "outputs": [],
   "source": [
    "# ---------------------- Physical Parameters ----------------------\n",
    "# Dimensions\n",
    "b = 500E-3 #[m]\n",
    "d = 150E-3 #[m]\n",
    "l_beam = 0.812 #[m] (length of beam A)\n",
    "\n",
    "h = 500E-3 #[m] (Side length of weld) <-- Adjust this one\n",
    "\n",
    "# Loadings\n",
    "F_axial    = 1088.7343E3 #[N]\n",
    "F_bending  = 1659.6679E3 #[N]\n",
    "\n",
    "# Material Properties\n",
    "# Beam properties Hot Rolled\n",
    "Sy_D6AC = 1430 #[MPa]\n",
    "Sut_D6AC = 1650 #[MPa]\n",
    "# Electrode properties () E120XX\n",
    "Sy_electrode = 737 #[MPa] \n",
    "Sut_electrode = 827 #[MPa]\n"
   ]
  },
  {
   "cell_type": "code",
   "execution_count": null,
   "metadata": {
    "colab": {
     "base_uri": "https://localhost:8080/"
    },
    "id": "vumm6XGNMejs",
    "outputId": "d27fe8ca-eb08-4cc3-a455-afc8de4bbdd7"
   },
   "outputs": [
    {
     "name": "stdout",
     "output_type": "stream",
     "text": [
      "Tau_p = 3.6115 [MPa]\n",
      "Tau_pp = 46.2098 [MPa]\n",
      "Tau_bending = 46.3507 [MPa]\n"
     ]
    }
   ],
   "source": [
    "# ---------------------- Primary, Secondary Shear (bending) ----------------------\n",
    "\n",
    "# Primary shear is Tau_p = F/A\n",
    "A = 1.414 * h * (b + d) # Shigley, Pg. 513\n",
    "Tau_p = F_bending / A\n",
    "print(\"Tau_p = %0.4f [MPa]\" % (Tau_p/1E6))\n",
    "\n",
    "# Secondary shear is Tau_pp = Mc/I\n",
    "# Moment of inertia I = 0.707*h*I_u\n",
    "I_u = ((d**2)/6) * (3*b + d)\n",
    "I = 0.707*h*I_u\n",
    "Tau_pp = ((F_bending*l_beam) * (d/2)) / (I)\n",
    "print(\"Tau_pp = %0.4f [MPa]\" % (Tau_pp/1E6))\n",
    "\n",
    "#Tau_p and Tau_pp are perpindicular therefore vector sum them\n",
    "Tau_bending = sqrt(Tau_p**2+Tau_pp**2)\n",
    "print(\"Tau_bending = %0.4f [MPa]\" % (Tau_bending/1E6))"
   ]
  },
  {
   "cell_type": "code",
   "execution_count": null,
   "metadata": {
    "colab": {
     "base_uri": "https://localhost:8080/"
    },
    "id": "NkOiXDqyPHSx",
    "outputId": "8ca659ae-5aa6-42a8-a7c5-9ec7e3dbec0c"
   },
   "outputs": [
    {
     "name": "stdout",
     "output_type": "stream",
     "text": [
      "Tau_axial = 2.3691 [Mpa]\n"
     ]
    }
   ],
   "source": [
    "#----------------------- Primary Shear (axial)------------------------------------\n",
    "\n",
    "#Primary Shear is Tau_p_axial = F/A\n",
    "Tau_p_axial = F_axial / A\n",
    "\n",
    "#no Secondary Shear therefore Tau_p_axial = Tau_axial\n",
    "Tau_axial = Tau_p_axial\n",
    "print(\"Tau_axial = %0.4f [Mpa]\" % (Tau_axial/1E6))"
   ]
  },
  {
   "cell_type": "code",
   "execution_count": null,
   "metadata": {
    "colab": {
     "base_uri": "https://localhost:8080/"
    },
    "id": "_zUJh4ilUnvG",
    "outputId": "12b3be49-de10-4f39-ecfc-41d141146f6f"
   },
   "outputs": [
    {
     "name": "stdout",
     "output_type": "stream",
     "text": [
      "Tau_total = 46.4112 [Mpa]\n"
     ]
    }
   ],
   "source": [
    "#-----------------------Total Shear----------------------------------------------\n",
    "\n",
    "#Tau_total is the sum of the bending and axial shear\n",
    "Tau_total = sqrt(Tau_bending**2+Tau_axial**2)\n",
    "print(\"Tau_total = %0.4f [Mpa]\" % (Tau_total/1E6))"
   ]
  },
  {
   "cell_type": "code",
   "execution_count": null,
   "metadata": {
    "colab": {
     "base_uri": "https://localhost:8080/"
    },
    "id": "I65OBIgmV1fg",
    "outputId": "d6a3a9d1-16d2-4d81-f07b-563a9c8304e0"
   },
   "outputs": [
    {
     "name": "stdout",
     "output_type": "stream",
     "text": [
      "Tau_allowable_electrode = 248.1000 [Mpa] for electrode\n",
      "Tau_allowable = 248.1000 [Mpa] for electrode\n",
      "Safety factor = 5.3457\n"
     ]
    }
   ],
   "source": [
    "#---------------------Safety Factor----------------------------------------------\n",
    "\n",
    "#determine the Permissible stress for beam material\n",
    "Tau_allowable_beam=min(0.3*Sut_D6AC, 0.4*Sy_D6AC)\n",
    "Tau_allowable_electrode=min(0.3*Sut_electrode, 0.4*Sy_electrode)\n",
    "print(\"Tau_allowable_electrode = %0.4f [Mpa] for electrode\" % (Tau_allowable_electrode))\n",
    "Tau_allowable = min(Tau_allowable_beam, Tau_allowable_electrode)\n",
    "\n",
    "print(\"Tau_allowable = %0.4f [Mpa] for electrode\" % (Tau_allowable))\n",
    "\n",
    "#safety factor\n",
    "nf = Tau_allowable/(Tau_total/1E6)\n",
    "print(\"Safety factor = %0.4f\" % (nf))\n"
   ]
  },
  {
   "cell_type": "code",
   "execution_count": null,
   "metadata": {
    "colab": {
     "base_uri": "https://localhost:8080/"
    },
    "id": "r359AZ5t5Noi",
    "outputId": "935a088e-3d90-45be-ca4a-3887aa62bbf9"
   },
   "outputs": [
    {
     "name": "stdout",
     "output_type": "stream",
     "text": [
      "k_a (parent) = 0.1711 \t\t[MPa]\n",
      "Sse_D6AC = 83.2680 \t\t[MPa]\n",
      "Ssu_D6AC = 1105.5000 \t\t[MPa]\n",
      "\n",
      "k_a (electrode) = 0.3401 \t[MPa]\n",
      "Sse_electrode = 82.9810 \t[MPa]\n",
      "Ssu_electrode = 554.0900 \t[MPa]\n"
     ]
    }
   ],
   "source": [
    "# ---------------------- Fatigue Analysis - Material Properties ----------------------\n",
    "\n",
    "# Parent Material\n",
    "Se_P = 0.5*Sut_D6AC # [MPa]\n",
    "k_a = 272*Sut_D6AC**(-0.995) # <-- As-forged\n",
    "k_b = 1\n",
    "k_c = 0.59 # <-- Torsion\n",
    "k_d = 1\n",
    "k_e = 1\n",
    "k_f = 1\n",
    "Sse_D6AC = Se_P * k_a * k_b * k_c * k_d * k_e * k_f\n",
    "Ssu_D6AC = 0.67*Sut_D6AC\n",
    "print(\"k_a (parent) = %0.4f \\t\\t[MPa]\" % k_a)\n",
    "print(\"Sse_D6AC = %0.4f \\t\\t[MPa]\" % Sse_D6AC)\n",
    "print(\"Ssu_D6AC = %0.4f \\t\\t[MPa]\" % Ssu_D6AC)\n",
    "\n",
    "# Electrode Material\n",
    "Se_P = 0.5*Sut_electrode # [MPa]\n",
    "k_a = 272*Sut_electrode**(-0.995) # <-- As-forged\n",
    "k_b = 1\n",
    "k_c = 0.59 # <-- Torsion\n",
    "k_d = 1\n",
    "k_e = 1\n",
    "k_f = 1\n",
    "Sse_electrode = Se_P * k_a * k_b * k_c * k_d * k_e * k_f\n",
    "Ssu_electrode = 0.67*Sut_electrode\n",
    "print(\"\\nk_a (electrode) = %0.4f \\t[MPa]\" % k_a)\n",
    "print(\"Sse_electrode = %0.4f \\t[MPa]\" % Sse_electrode)\n",
    "print(\"Ssu_electrode = %0.4f \\t[MPa]\" % Ssu_electrode)\n"
   ]
  },
  {
   "cell_type": "code",
   "execution_count": null,
   "metadata": {
    "colab": {
     "base_uri": "https://localhost:8080/"
    },
    "id": "Md92G6E5_UkP",
    "outputId": "81cf7c6a-5ec9-4347-d015-5553b93a134e"
   },
   "outputs": [
    {
     "name": "stdout",
     "output_type": "stream",
     "text": [
      "Fa = 0.5444 \t[MN]\n",
      "Fm = 2.2040 \t[MN]\n",
      "M_a = 0.0000 \t[MNm]\n",
      "M_m = 1.3477 \t[MNm]\n",
      "Tau_p_a = 1.1846 \t[MPa]\n",
      "Tau_p_m = 4.7961 \t[MPa]\n",
      "Tau_pp_a = 0.0000 \t[MPa]\n",
      "Tau_pp_m = 46.2098 \t[MPa]\n",
      "Tau_a = 1.1846 \t\t[MPa]\n",
      "Tau_m = 46.4580 \t[MPa]\n"
     ]
    }
   ],
   "source": [
    "# ---------------------- Fatigue Analysis - Alternating and Midrange Stresses ----------------------\n",
    "\n",
    "# ----- Primary Shear -----\n",
    "F_max = F_bending + F_axial\n",
    "F_min = F_bending\n",
    "\n",
    "Fa = (F_max - F_min) / 2\n",
    "Fm = (F_max + F_min) / 2\n",
    "\n",
    "Tau_p_a = Fa/A\n",
    "Tau_p_m = Fm/A\n",
    "\n",
    "\n",
    "# ----- Secondary Shear -----\n",
    "M_max = F_bending*l_beam\n",
    "M_min = F_bending*l_beam\n",
    "\n",
    "M_a = (M_max-M_min)/2\n",
    "M_m = (M_max + M_min)/2\n",
    "\n",
    "Tau_pp_a = ((M_a) * (d/2)) / (I)\n",
    "Tau_pp_m = ((M_m) * (d/2)) / (I)\n",
    "\n",
    "# ----- Total Shear -----\n",
    "Tau_a = sqrt(Tau_p_a**2+Tau_pp_a**2)\n",
    "Tau_m = sqrt(Tau_p_m**2 + Tau_pp_m**2)\n",
    "\n",
    "# Print all the values\n",
    "print(\"Fa = %0.4f \\t[MN]\" % (Fa/1E6))\n",
    "print(\"Fm = %0.4f \\t[MN]\" % (Fm/1E6))\n",
    "print(\"M_a = %0.4f \\t[MNm]\" % (M_a/1E6))\n",
    "print(\"M_m = %0.4f \\t[MNm]\" % (M_m/1E6))\n",
    "print(\"Tau_p_a = %0.4f \\t[MPa]\" % (Tau_p_a/1E6))\n",
    "print(\"Tau_p_m = %0.4f \\t[MPa]\" % (Tau_p_m/1E6))\n",
    "print(\"Tau_pp_a = %0.4f \\t[MPa]\" % (Tau_pp_a/1E6))\n",
    "print(\"Tau_pp_m = %0.4f \\t[MPa]\" % (Tau_pp_m/1E6))\n",
    "print(\"Tau_a = %0.4f \\t\\t[MPa]\" % (Tau_a/1E6))\n",
    "print(\"Tau_m = %0.4f \\t[MPa]\" % (Tau_m/1E6))"
   ]
  },
  {
   "cell_type": "code",
   "execution_count": null,
   "metadata": {
    "colab": {
     "base_uri": "https://localhost:8080/"
    },
    "id": "Fts18SiuTO0D",
    "outputId": "61a999bb-cd4d-4a3e-cf2f-6c0d20cb2875"
   },
   "outputs": [
    {
     "name": "stdout",
     "output_type": "stream",
     "text": [
      "nf = 6.7944\n"
     ]
    }
   ],
   "source": [
    "#----------------------Safety Factor: Goodman Criteria--------------------\n",
    "Sse_min = min(Sse_D6AC,Sse_electrode)\n",
    "Ssu_min = min(Ssu_D6AC,Ssu_electrode)\n",
    "\n",
    "Kfs = 1.5\n",
    "\n",
    "nf = 1/(((Kfs*Tau_a/1E6)/Sse_min)+((Kfs*Tau_m/1E6)/Ssu_min))\n",
    "\n",
    "print(\"nf = %0.4f\" % (nf))"
   ]
  }
 ],
 "metadata": {
  "colab": {
   "collapsed_sections": [],
   "name": "2021-11-16_MECH426_Assignment4_Calculations.ipynb",
   "provenance": []
  },
  "kernelspec": {
   "display_name": "Python 3 (ipykernel)",
   "language": "python",
   "name": "python3"
  },
  "language_info": {
   "codemirror_mode": {
    "name": "ipython",
    "version": 3
   },
   "file_extension": ".py",
   "mimetype": "text/x-python",
   "name": "python",
   "nbconvert_exporter": "python",
   "pygments_lexer": "ipython3",
   "version": "3.9.7"
  }
 },
 "nbformat": 4,
 "nbformat_minor": 1
}
