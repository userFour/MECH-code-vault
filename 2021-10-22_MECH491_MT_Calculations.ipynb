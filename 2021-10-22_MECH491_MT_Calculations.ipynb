{
 "cells": [
  {
   "cell_type": "code",
   "execution_count": 1,
   "metadata": {
    "colab": {
     "base_uri": "https://localhost:8080/"
    },
    "id": "jBqD_D6UWrq8",
    "outputId": "04177345-0dea-420e-fbfd-5d32ac0bf07d",
    "scrolled": true
   },
   "outputs": [
    {
     "name": "stdout",
     "output_type": "stream",
     "text": [
      "Sucess!\n"
     ]
    }
   ],
   "source": [
    "# ---------------------- IMPORT THE LIBRARIES ----------------------\n",
    "from math import *\n",
    "import numpy as np\n",
    "# from scipy.optimize import fsolve\n",
    "# import matplotlib\n",
    "# import matplotlib.pyplot as plt\n",
    "\n",
    "print(\"Sucess!\")"
   ]
  },
  {
   "cell_type": "code",
   "execution_count": 2,
   "metadata": {
    "colab": {
     "base_uri": "https://localhost:8080/"
    },
    "id": "dfI6w5f69DYs",
    "outputId": "6a776d0d-f39d-4078-9058-edc08545d6bf"
   },
   "outputs": [
    {
     "name": "stdout",
     "output_type": "stream",
     "text": [
      "n = 2037.1833 [rpm]\n",
      "phi = 42.8334 [deg]\n",
      "f_z = 0.0040 [in]\n",
      "V_f = 56.6326 [in/min]\n"
     ]
    }
   ],
   "source": [
    "# ---------------------- PART A ----------------------\n",
    "\n",
    "# Start by computing spindle speed\n",
    "V_c = 400 #[sfm]\n",
    "dia = 0.75 #[in]\n",
    "n = (12 * V_c) / (pi * dia)\n",
    "print(\"n = %0.4f [rpm]\" % n)\n",
    "\n",
    "# Compute engagement angle phi\n",
    "a_e = 0.1 #[in]\n",
    "phi = degrees(acos(1 - (2*a_e)/dia))\n",
    "print(\"phi = %0.4f [deg]\" % phi)\n",
    "\n",
    "# Compute feed per tooth, f_z\n",
    "h_ex = 0.0027 #[in]\n",
    "f_z = h_ex / (sin(radians(phi)))\n",
    "print(\"f_z = %0.4f [in]\" % f_z)\n",
    "\n",
    "# Compute programmed feedrate, V_f\n",
    "Z_n = 7\n",
    "V_f = f_z * Z_n * n\n",
    "print(\"V_f = %0.4f [in/min]\" % V_f)\n"
   ]
  },
  {
   "cell_type": "code",
   "execution_count": 3,
   "metadata": {
    "colab": {
     "base_uri": "https://localhost:8080/"
    },
    "id": "EnZ2ZapJb-rR",
    "outputId": "d9656d33-ec7a-4bdf-b42c-21a6fe543475"
   },
   "outputs": [
    {
     "name": "stdout",
     "output_type": "stream",
     "text": [
      "f_z2 = 0.0027 [in]\n",
      "V_f2 = 38.5028 [in/min]\n",
      "\n",
      "f_z3 = 0.0031 [in]\n",
      "V_f3 = 44.4592 [in/min]\n",
      "\n",
      "V_f2_adj = 9.6257 [in/min]\n",
      "V_f3_adj = 22.2296 [in/min]\n"
     ]
    }
   ],
   "source": [
    "# ---------------------- PART B ----------------------\n",
    "# Compute for green location, f_z2 and V_f2\n",
    "f_z1 = f_z\n",
    "phi_1 = phi\n",
    "phi_2 = 90 #[deg]\n",
    "f_z2 = f_z1 * (sin(radians(phi_1))/sin(radians(phi_2)))\n",
    "print(\"f_z2 = %0.4f [in]\" % f_z2)\n",
    "\n",
    "V_f2 = f_z2 * Z_n * n\n",
    "print(\"V_f2 = %0.4f [in/min]\" % V_f2)\n",
    "\n",
    "# Compute for blue location, f_z3 and V_f3\n",
    "phi_3 = 60 #[deg]\n",
    "f_z3 = f_z1 * (sin(radians(phi_1))/sin(radians(phi_3)))\n",
    "print(\"\\nf_z3 = %0.4f [in]\" % f_z3)\n",
    "\n",
    "V_f3 = f_z3 * Z_n * n\n",
    "print(\"V_f3 = %0.4f [in/min]\" % V_f3)\n",
    "\n",
    "# Adjust for relative velocity at green location --> V_f2_adj\n",
    "r2 = 0.5 #[in]\n",
    "r1 = r2 - (dia/2) #[in]\n",
    "V_f2_adj = r1/r2 * V_f2\n",
    "print(\"\\nV_f2_adj = %0.4f [in/min]\" % V_f2_adj)\n",
    "\n",
    "# Adjust for relative velocity at blue location --> V_f3_adj\n",
    "r2 = 0.75 #[in]\n",
    "r1 = r2 - (dia/2) #[in]\n",
    "V_f3_adj = r1/r2 * V_f3\n",
    "print(\"V_f3_adj = %0.4f [in/min]\" % V_f3_adj)"
   ]
  },
  {
   "cell_type": "code",
   "execution_count": 4,
   "metadata": {
    "colab": {
     "base_uri": "https://localhost:8080/"
    },
    "id": "rXI4lBTjAe_N",
    "outputId": "3df2c9aa-ebd6-426c-c171-8125cde69ce2"
   },
   "outputs": [
    {
     "name": "stdout",
     "output_type": "stream",
     "text": [
      "A_x = 2.2450 [in]\n",
      "B_y = 1.9950 [in]\n",
      "\n",
      "V_f_arc3 = 77.8698 [in/min]\n",
      "V_f_arc4 = 70.7907 [in/min]\n"
     ]
    }
   ],
   "source": [
    "# ---------------------- PART C ----------------------\n",
    "# Compute Ax\n",
    "A_x = 2.5 - (dia/2) * sin(radians(phi_1))\n",
    "print(\"A_x = %0.4f [in]\" % A_x)\n",
    "\n",
    "# Compute By\n",
    "B_y = 2.25 - (dia/2) * sin(radians(phi_1))\n",
    "print(\"B_y = %0.4f [in]\" % B_y)\n",
    "\n",
    "# Compute relative velocity around third arc\n",
    "r_part = 1 #[in]\n",
    "V_f_arc3 = ((r_part + (dia/2)) / r_part) * V_f\n",
    "print(\"\\nV_f_arc3 = %0.4f [in/min]\" % V_f_arc3)\n",
    "\n",
    "# Compute relative velocity around fourth arc\n",
    "r_part = 1.5 #[in]\n",
    "V_f_arc4 = ((r_part + (dia/2)) / r_part) * V_f\n",
    "print(\"V_f_arc4 = %0.4f [in/min]\" % V_f_arc4)\n"
   ]
  },
  {
   "cell_type": "markdown",
   "metadata": {
    "id": "23rUHTpM5CO5"
   },
   "source": [
    "```\n",
    "N0010 G20 G90 ;Programming in inches, absolute coordinates\n",
    "N0020 M03 S2037 ;Spindle on (clockwise), 2037 rpm\n",
    "N0030 M08 ;Coolant on (flood)\n",
    ";Begin cutting operations\n",
    "N0040 G00 X-.375 Y-.375 ;Given from exam question\n",
    "N0050 G01 Y1.375 F56.6 ;First linear cut, 20mm/s ish\n",
    "N0060 G01 X2.2450 ;Second linear cut up to pt A\n",
    "N0070 G01 X2.5 F38.5 ;Slow while approaching point of tangency (V_f2)\n",
    ";Cut the green arc, slow feedrate to account for relative velocity (V_f2_adj)\n",
    "N0080 G03 X2.625 Y1.5 I0.0 J0.125 F9.6\n",
    "N0090 G01 Y1.9950 F56.6 ;Cut up to pt B at original feedrate\n",
    "N0100 G01 Y2.25 F44.5 ;Slow while approaching point of tangency (V_f3)\n",
    ";Cut the blue arc, slow feedrate to account for relative velocity (V_f3_adj)\n",
    "N0110 G03 X2.25 Y2.625 I-0.375 J0.0 F22.2\n",
    "N0120 G01 X-1.375 F56.6\n",
    "N0130 G01 Y5.375\n",
    "N0140 G01 X4\n",
    ";Cut the third arc, increase feedrate for relative velocity (V_f_arc3)\n",
    "N0150 G02 X5.375 Y4 I0.0 J-1.375 F77.9\n",
    "N0160 G01 Y1.5 F56.6\n",
    ";Cut the fourth arc, increase feedrate for relative velocity (V_f_arc4)\n",
    "N0170 G02 X3.5 Y-0.375 I-1.875 J0.0 F70.8\n",
    "N0180 G01 X-0.375 F56.6 ;Last cutting move\n",
    ";End of program operations\n",
    "N0190 G00 Z2.0 ;Raise zed a bit for safety\n",
    "N0200 M09 ;Coolant off\n",
    "N0210 M05 ;Spindle off\n",
    "N0220 G28 X Y ;Send the machine home\n",
    "N0230 M18 ;Axis motors off\n",
    "N0240 M30 ;End program\n",
    "```\n",
    "\n"
   ]
  }
 ],
 "metadata": {
  "colab": {
   "collapsed_sections": [],
   "name": "2021-10-21_MECH491_MT_Calculations.ipynb",
   "provenance": []
  },
  "kernelspec": {
   "display_name": "Python 3 (ipykernel)",
   "language": "python",
   "name": "python3"
  },
  "language_info": {
   "codemirror_mode": {
    "name": "ipython",
    "version": 3
   },
   "file_extension": ".py",
   "mimetype": "text/x-python",
   "name": "python",
   "nbconvert_exporter": "python",
   "pygments_lexer": "ipython3",
   "version": "3.9.7"
  }
 },
 "nbformat": 4,
 "nbformat_minor": 1
}
