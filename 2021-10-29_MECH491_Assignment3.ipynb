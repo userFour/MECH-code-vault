{
 "cells": [
  {
   "cell_type": "markdown",
   "metadata": {
    "id": "j5Huwdr4oe8D"
   },
   "source": [
    "Mark Faszer<br />\n",
    "MECH491<br />\n",
    "2021-10-29<br />\n",
    "Prof. Serban Cojocaru\n",
    "\n",
    "<h1 align=\"center\"> MECH491 ASSIGNMENT 3 </h1>\n",
    "<hr />\n",
    "\n",
    "1) Programming a cutter in Unigraphics NX...<br />\n",
    "*A) what is the resulting A-axis position and C-axis position that satisfy the unit vector n̂?*\n",
    "```\n",
    "angleA = -36.7807 \t[deg]\n",
    "angleC = 39.4388 \t[deg]\n",
    "```\n",
    "\n",
    "*B) Is there is an additional A-axis and C-axis position that satisfies the unit vector? If so what is it?*\n",
    "```\n",
    "Alternate configuration:\n",
    "angleA = 36.7807 \t[deg]\n",
    "angleC = -140.5612 \t[deg]\n",
    "```\n",
    "\n",
    "*C) What A and B-axis positions satisfy the unit vector?*\n",
    "```\n",
    "angleB = 36.7807 \t[deg]\n",
    "angleA = -22.3560 \t[deg]\n",
    "```\n",
    "\n",
    "*D) If the machine tool identified in part (c) has rotational axis travel limits of ±25°, is the machine tool able to satisfy unit vector n̂ ?*<br />\n",
    "No, the machine cannot satisfy the vector."
   ]
  },
  {
   "cell_type": "code",
   "execution_count": 3,
   "metadata": {
    "colab": {
     "base_uri": "https://localhost:8080/"
    },
    "id": "Av2vbjv-ADWE",
    "outputId": "1333d0a3-01e7-4ed4-d3f2-b4352b6a0e4c"
   },
   "outputs": [
    {
     "name": "stdout",
     "output_type": "stream",
     "text": [
      "Sucess!\n"
     ]
    }
   ],
   "source": [
    "# ---------------------- IMPORT THE LIBRARIES ----------------------\n",
    "from math import *\n",
    "import numpy as np\n",
    "# from scipy.optimize import fsolve\n",
    "import matplotlib\n",
    "import matplotlib.pyplot as plt\n",
    "\n",
    "print(\"Sucess!\")"
   ]
  },
  {
   "cell_type": "code",
   "execution_count": 52,
   "metadata": {
    "colab": {
     "base_uri": "https://localhost:8080/"
    },
    "id": "ep1VgP_o_tvV",
    "outputId": "81f43c88-7414-447b-b207-82169e108978"
   },
   "outputs": [
    {
     "name": "stdout",
     "output_type": "stream",
     "text": [
      "angleA = -36.7807 \t[deg]\n",
      "angleC = 39.4388 \t[deg]\n",
      "\n",
      "Alternate configuration:\n",
      "angleA = 36.7807 \t[deg]\n",
      "angleC = -140.5612 \t[deg]\n"
     ]
    }
   ],
   "source": [
    "# Part A - Machine has A and C axis\n",
    "v = np.array([-0.3803605, 0.4624192, 0.8009335], dtype=float)\n",
    "\n",
    "angleA = degrees(acos(v[2] / 1))\n",
    "angleA *= -1\n",
    "print(\"angleA = %0.4f \\t[deg]\" % angleA)\n",
    "angleC = abs(degrees(atan(v[0] / v[1])))\n",
    "print(\"angleC = %0.4f \\t[deg]\" % angleC)\n",
    "\n",
    "print(\"\\nAlternate configuration:\")\n",
    "angleA = -1*angleA\n",
    "print(\"angleA = %0.4f \\t[deg]\" % angleA)\n",
    "angleC = (-1) * (180 - angleC)\n",
    "print(\"angleC = %0.4f \\t[deg]\" % angleC)\n"
   ]
  },
  {
   "cell_type": "code",
   "execution_count": 53,
   "metadata": {
    "colab": {
     "base_uri": "https://localhost:8080/"
    },
    "id": "nF0o3-olVMUu",
    "outputId": "bf48f535-563d-4dcc-a447-4a5740888b34"
   },
   "outputs": [
    {
     "name": "stdout",
     "output_type": "stream",
     "text": [
      "\n",
      "angleB = 36.7807 \t[deg]\n",
      "angleA = -22.3560 \t[deg]\n"
     ]
    }
   ],
   "source": [
    "# Part B - Now we have A and B axis\n",
    "angleB = degrees(asin(v[0]))\n",
    "print(\"\\nangleB = %0.4f \\t[deg]\" % angleA)\n",
    "\n",
    "angleA = degrees(asin(v[1] / cos(angleB)))\n",
    "print(\"angleA = %0.4f \\t[deg]\" % angleB)"
   ]
  },
  {
   "cell_type": "code",
   "execution_count": null,
   "metadata": {
    "id": "ffC5K82LaQ6I"
   },
   "outputs": [],
   "source": []
  }
 ],
 "metadata": {
  "colab": {
   "collapsed_sections": [],
   "name": "2021-10-29_MECH491_Assignment3_Calculations.ipynb",
   "provenance": []
  },
  "kernelspec": {
   "display_name": "Python 3 (ipykernel)",
   "language": "python",
   "name": "python3"
  },
  "language_info": {
   "codemirror_mode": {
    "name": "ipython",
    "version": 3
   },
   "file_extension": ".py",
   "mimetype": "text/x-python",
   "name": "python",
   "nbconvert_exporter": "python",
   "pygments_lexer": "ipython3",
   "version": "3.9.7"
  }
 },
 "nbformat": 4,
 "nbformat_minor": 1
}
