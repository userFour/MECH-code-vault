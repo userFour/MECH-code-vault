{
 "cells": [
  {
   "cell_type": "code",
   "execution_count": 1,
   "metadata": {},
   "outputs": [
    {
     "name": "stdout",
     "output_type": "stream",
     "text": [
      "Sucess!\n"
     ]
    }
   ],
   "source": [
    "from math import *\n",
    "import numpy as np\n",
    "# from scipy.optimize import fsolve\n",
    "# import matplotlib\n",
    "# import matplotlib.pyplot as plt\n",
    "\n",
    "print(\"Sucess!\")"
   ]
  },
  {
   "cell_type": "code",
   "execution_count": 22,
   "metadata": {},
   "outputs": [
    {
     "name": "stdout",
     "output_type": "stream",
     "text": [
      "h1 = 3385.9500 [kJ/kg]\n",
      "s1 = 6.6602 [kJ/kg]\n",
      "h2s = 2884.2130 [kJ/kg]\n",
      "h2 = 2944.4214 [kJ/kg]\n",
      "s2 = 6.7781 [kJ/kg]\n",
      "x3 = 0.8746 []\n",
      "h3s = 2356.6584 [kJ/kg]\n",
      "h3 = 2427.1900 [kJ/kg]\n",
      "x3 = 0.9051 []\n",
      "s3 = 6.9771 [kJ/kgK]\n",
      "s_gen = 4.4545 [kJ/kgK]\n",
      "w1 = 6622.9287 [kJ/kg]\n"
     ]
    }
   ],
   "source": [
    "# Question1\n",
    "\n",
    "T1 = 390 # [K]\n",
    "P1 = 300 # [kPa]\n",
    "P2 = 100 # [kPa]\n",
    "\n",
    "xVals = np.array([8000, 10000])\n",
    "yVals = np.array([3398.27, 3373.63])\n",
    "h1 = np.interp(9000, xVals, yVals)\n",
    "print(\"h1 = %0.4f [kJ/kg]\" % h1)\n",
    "\n",
    "xVals = np.array([8000, 10000])\n",
    "yVals = np.array([6.7239, 6.5965])\n",
    "s1 = np.interp(9000, xVals, yVals)\n",
    "print(\"s1 = %0.4f [kJ/kg]\" % s1)\n",
    "\n",
    "xVals = np.array([6.4975, 6.7467])\n",
    "yVals = np.array([2803.32, 2927.22])\n",
    "h2s = np.interp(s1, xVals, yVals)\n",
    "print(\"h2s = %0.4f [kJ/kg]\" % h2s)\n",
    "\n",
    "eta = 0.88\n",
    "h2 = h1 - eta * (h1 - h2s)\n",
    "print(\"h2 = %0.4f [kJ/kg]\" % h2)\n",
    "\n",
    "xVals = np.array([2927.22, 3040.35])\n",
    "yVals = np.array([6.7467, 6.9533])\n",
    "s2 = np.interp(h2, xVals, yVals)\n",
    "print(\"s2 = %0.4f [kJ/kg]\" % s2)\n",
    "\n",
    "sf = 1.0910\n",
    "sfg = 6.5029\n",
    "s3s = s2\n",
    "x3s = (s3s - sf) / sfg\n",
    "print(\"x3 = %0.4f []\" % x3s)\n",
    "\n",
    "hf = 340.47\n",
    "hfg = 2305.40\n",
    "h3s = hf + x3s * hfg\n",
    "print(\"h3s = %0.4f [kJ/kg]\" % h3s)\n",
    "\n",
    "h3 = h2 - eta * (h2 - h3s)\n",
    "print(\"h3 = %0.4f [kJ/kg]\" % h3)\n",
    "\n",
    "x3 = (h3 - hf) / hfg\n",
    "print(\"x3 = %0.4f []\" % x3)\n",
    "\n",
    "s3 = sf + x3 * sfg\n",
    "print(\"s3 = %0.4f [kJ/kgK]\" % s3)\n",
    "\n",
    "s_gen = 1.5 * s2 + 13.5 * s3 - 15 * s1\n",
    "print(\"s_gen = %0.4f [kJ/kgK]\" % s_gen)\n",
    "\n",
    "mdot_1 = 15\n",
    "w1 = mdot_1 * (h1 - h2)\n",
    "print(\"w1 = %0.4f [kJ/kg]\" % w1)"
   ]
  },
  {
   "cell_type": "code",
   "execution_count": null,
   "metadata": {},
   "outputs": [],
   "source": []
  }
 ],
 "metadata": {
  "kernelspec": {
   "display_name": "Python 3",
   "language": "python",
   "name": "python3"
  },
  "language_info": {
   "codemirror_mode": {
    "name": "ipython",
    "version": 3
   },
   "file_extension": ".py",
   "mimetype": "text/x-python",
   "name": "python",
   "nbconvert_exporter": "python",
   "pygments_lexer": "ipython3",
   "version": "3.8.5"
  }
 },
 "nbformat": 4,
 "nbformat_minor": 4
}
