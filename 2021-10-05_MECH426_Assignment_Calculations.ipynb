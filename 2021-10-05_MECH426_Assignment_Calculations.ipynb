{
 "cells": [
  {
   "cell_type": "code",
   "execution_count": null,
   "metadata": {
    "colab": {
     "base_uri": "https://localhost:8080/"
    },
    "id": "jBqD_D6UWrq8",
    "outputId": "3793ca73-6548-4a7e-b7f8-e1837c11ec28"
   },
   "outputs": [
    {
     "name": "stdout",
     "output_type": "stream",
     "text": [
      "Sucess!\n"
     ]
    }
   ],
   "source": [
    "# ---------------------- IMPORT THE LIBRARIES ----------------------\n",
    "from math import *\n",
    "import numpy as np\n",
    "# from scipy.optimize import fsolve\n",
    "import matplotlib\n",
    "from matplotlib import cm\n",
    "# from matplotlib.ticker import LinearLocator, FormatStrFormatter\n",
    "import matplotlib.pyplot as plt\n",
    "\n",
    "print(\"Sucess!\")"
   ]
  },
  {
   "cell_type": "code",
   "execution_count": null,
   "metadata": {
    "colab": {
     "base_uri": "https://localhost:8080/"
    },
    "id": "6tn0KWFYfY6b",
    "outputId": "964dac0b-92f6-4c3d-aa93-2c6b37c581d3"
   },
   "outputs": [
    {
     "name": "stdout",
     "output_type": "stream",
     "text": [
      "Physical parameters set!\n",
      "omega_1_max = 1.0922 \n",
      "omega_2_max = 1.7952 \n"
     ]
    }
   ],
   "source": [
    "# ---------------------- DEFINE PHYSICAL PARAMETERS ----------------------\n",
    "# Natural Constants\n",
    "g           = 9.81 #[m/s^2] (gravity)\n",
    "rho         = 1.225 #[kg/m^3] (Mass density of air)\n",
    "m_person    = 112 #[kg] (Use 95 percentile of heaviest people)\n",
    "FoS         = 10 #[] (Client wants FoS 10)\n",
    "k_ic        = 56E6 #[Pa*m^(1/2)]\n",
    "Sy          = 310E6 #[Pa]\n",
    "a           = 4E-3 #[m] (Smallest detectable crack)\n",
    "\n",
    "# Machine Dimensional Parameters\n",
    "max_height  = 38 #[m] (max height of the seats above the ground)\n",
    "l_pendulum  = 25 #[m] (length of the pendulum arm - seats from pendulum axis)\n",
    "theta_beam  = 25 #[deg] (angle of beam A wrt pendulum axis)\n",
    "l_beam      = 0.812 #[m] (length of beam A)\n",
    "n_seats     = 5 #[] (number of seats per bank/row)\n",
    "m_seat      = m_person #[kg] (Assume seat weighs about as much as occupant)\n",
    "m_seat_row  = (m_seat + m_person) * n_seats # [kg] (total mass of bank/row)\n",
    "r_seat_row  = 5 #[m] (Distance from bank to pendulum axis) <-- This number needs to be determined more accurately\n",
    "\n",
    "# Machine Dynamic Parameters (Refer to technical report for axis1 and axis2 definitions)\n",
    "v_1_max = sqrt(2*max_height*g)\n",
    "omega_1_max = v_1_max/l_pendulum #[rad/s] (Estimated from video, agrees with ~90km/h as advertised)\n",
    "omega_2_max = 2*pi/3.5 #[rad/s] (Estimated from video ~ 1 rev in 3.5 [s])\n",
    "t_max_rotation = 3.5 #[s] (Estimated from video)\n",
    "\n",
    "print(\"Physical parameters set!\")\n",
    "print(\"omega_1_max = %0.4f \" % (omega_1_max))\n",
    "print(\"omega_2_max = %0.4f \" % (omega_2_max))\n",
    "\n"
   ]
  },
  {
   "cell_type": "code",
   "execution_count": null,
   "metadata": {
    "colab": {
     "base_uri": "https://localhost:8080/"
    },
    "id": "-l4ocQQvgNYM",
    "outputId": "4ffdbb0b-00f7-432c-d0a3-60d42f67bd61"
   },
   "outputs": [
    {
     "name": "stdout",
     "output_type": "stream",
     "text": [
      "F_c_1 = 33.4011 [kN]\n"
     ]
    }
   ],
   "source": [
    "# ---------------------- COMPUTE CENTRIPITAL FORCE AXIS 1 ----------------------\n",
    "\n",
    "# Compute the centripital force from spinning about the pendulum pivot\n",
    "# Fc = m*v^2/r = m*e_h*omega_1_max^2\n",
    "F_c_1 = m_seat_row * l_pendulum * omega_1_max**2\n",
    "print(\"F_c_1 = %0.4f [kN]\" % (F_c_1/1000))\n"
   ]
  },
  {
   "cell_type": "code",
   "execution_count": null,
   "metadata": {
    "colab": {
     "base_uri": "https://localhost:8080/"
    },
    "id": "EbOPTb66gywf",
    "outputId": "4ae6f365-a385-43bc-913d-860efc8f57f0"
   },
   "outputs": [
    {
     "name": "stdout",
     "output_type": "stream",
     "text": [
      "F_c_2 = 162.4255 [kN]\n"
     ]
    }
   ],
   "source": [
    "# ---------------------- COMPUTE CENTRIPITAL FORCE AXIS 2 ----------------------\n",
    "\n",
    "# Compute the centripital force from spinning about the pendulum axis\n",
    "# Fc = m*v^2/r = m*e*omega**2\n",
    "F_c_2 = m_seat_row * r_seat_row * (3 * omega_2_max)**2\n",
    "print(\"F_c_2 = %0.4f [kN]\" % (F_c_2 /1000))"
   ]
  },
  {
   "cell_type": "code",
   "execution_count": null,
   "metadata": {
    "colab": {
     "base_uri": "https://localhost:8080/"
    },
    "id": "dfI6w5f69DYs",
    "outputId": "b7e2aa1e-816d-4528-f43a-c68d487e6bed"
   },
   "outputs": [
    {
     "name": "stdout",
     "output_type": "stream",
     "text": [
      "F_g = 10.9872 [kN]\n"
     ]
    }
   ],
   "source": [
    "# ---------------------- COMPUTE FORCE OF GRAVITY ----------------------\n",
    "\n",
    "# This is as simple as it sounds\n",
    "F_g = m_seat_row * g\n",
    "print(\"F_g = %0.4f [kN]\" % (F_g/1000))\n"
   ]
  },
  {
   "cell_type": "code",
   "execution_count": null,
   "metadata": {
    "colab": {
     "base_uri": "https://localhost:8080/"
    },
    "id": "QaxRx43uBili",
    "outputId": "57ede6c2-4587-4116-9368-e482ef80ab05"
   },
   "outputs": [
    {
     "name": "stdout",
     "output_type": "stream",
     "text": [
      "F_1        = 443.8829 [kN]\n",
      "F_2        = 1624.2549 [kN]\n",
      "F_axial    = 1088.7343 [kN]\n",
      "F_bending  = 1659.6679 [kN]\n"
     ]
    }
   ],
   "source": [
    "# ---------------------- TOTAL LOADING WITH FoS ----------------------\n",
    "# Compute F_1 and F_2\n",
    "F_1 = F_c_1 + F_g\n",
    "F_2 = F_c_2\n",
    "\n",
    "F_1 *= FoS\n",
    "F_2 *= FoS\n",
    "\n",
    "print(\"F_1        = %0.4f [kN]\" % (F_1/1000))\n",
    "print(\"F_2        = %0.4f [kN]\" % (F_2/1000))\n",
    "\n",
    "# Compute axial and bending components\n",
    "F_axial   = F_1 * cos(radians(theta_beam)) + F_2 * sin(radians(theta_beam))\n",
    "F_bending = F_1 * sin(radians(theta_beam)) + F_2 * cos(radians(theta_beam))\n",
    "\n",
    "print(\"F_axial    = %0.4f [kN]\" % (F_axial/1000))\n",
    "print(\"F_bending  = %0.4f [kN]\" % (F_bending/1000))"
   ]
  },
  {
   "cell_type": "code",
   "execution_count": null,
   "metadata": {
    "colab": {
     "base_uri": "https://localhost:8080/",
     "height": 350
    },
    "id": "FdDHiO1iip1L",
    "outputId": "6aaa07f0-dc7a-45b2-e719-57b85d2f18d4"
   },
   "outputs": [
    {
     "data": {
      "image/png": "[encoded data removed]",
      "text/plain": [
       "<Figure size 720x360 with 3 Axes>"
      ]
     },
     "metadata": {
      "needs_background": "light"
     },
     "output_type": "display_data"
    }
   ],
   "source": [
    "# ---------------------- PLOT THE SAFE REGIONS ----------------------\n",
    "%matplotlib inline\n",
    "fig = plt.figure(figsize=(10, 5))  # Create figure with dim 8x4 [in]\n",
    "ax1 = fig.add_subplot(1, 2, 1)    # Create first subplot for fracture\n",
    "ax2 = fig.add_subplot(1, 2, 2)    # Create second subplot for yield\n",
    "\n",
    "# Make data\n",
    "b_values = np.linspace(0.05, 0.5, 256) # Refer to FBD for definition of b, d\n",
    "d_values = np.linspace(0.05, 0.5, 256)\n",
    "# Initialize empty 2D arrays for fracture and yield\n",
    "k_values = np.zeros((len(b_values), len(d_values)))\n",
    "yield_values = np.zeros((len(b_values), len(d_values)))\n",
    "\n",
    "# This is used for plotting\n",
    "X, Y = np.meshgrid(b_values, d_values)\n",
    "\n",
    "# Use a for loop to compute stress values for all possible geometric configurations\n",
    "for i, b in enumerate(b_values):\n",
    "  for j, d in enumerate(d_values):\n",
    "    \n",
    "    # Compute stress and beta values\n",
    "    sigma_nom_tension = F_axial / (b*d)\n",
    "    sigma_nom_bending = (F_bending * b/2) / (1/12*d*b**3)\n",
    "    beta_tension = 13.812*(a/b)**3 - 3.3862*(a/b)**2 + 2.0947*a/b + 0.9778\n",
    "    beta_bending = 4.4563*(a/b)**2 - 1.344*a/b + 1.1272\n",
    "\n",
    "    # k = beta * sigma_nom * sqrt(pi * a)\n",
    "    k_values[i, j] = (sigma_nom_tension*beta_tension + sigma_nom_bending*beta_bending) * sqrt(pi*a)\n",
    "\n",
    "    # Check yielding (F/A + Mc/I)\n",
    "    sigma = (F_axial / (d*(b-a)**2)) + ((F_bending*l_beam*(b/2)) / (1/12 * d * (b-a)**3))\n",
    "    # print(\"Stress = %0.4f [MPa]\" % (sigma/1E6))\n",
    "    yield_values[i, j] = sigma\n",
    "\n",
    "# print(yield_values.min()/1E6)\n",
    "\n",
    "# Normalize values in the fracture and yield matrix\n",
    "k_values      /= k_ic\n",
    "yield_values  /= Sy\n",
    "\n",
    "# Plot the surface using contourf\n",
    "cs = ax1.contourf(X, Y, k_values, [0, 1], cmap=cm.jet)\n",
    "cs = ax2.contourf(X, Y, yield_values, [0, 1], cmap=cm.jet)\n",
    "\n",
    "# Customize the plot\n",
    "#ax.view_init(elev=90, azim=0)\n",
    "ax1.set_title(\"Fracture Criterion\")\n",
    "ax1.set_xlabel(\"b [m]\")\n",
    "ax1.set_ylabel(\"d [m]\")\n",
    "\n",
    "ax2.set_title(\"Yield Criterion\")\n",
    "ax2.set_xlabel(\"b [m]\")\n",
    "ax2.set_ylabel(\"d [m]\")\n",
    "\n",
    "# Add a color bar which maps values to colors.\n",
    "# fig.colorbar(surf, shrink=0.5, aspect=5)\n",
    "cbar = fig.colorbar(cs)\n",
    "plt.show()"
   ]
  },
  {
   "cell_type": "code",
   "execution_count": null,
   "metadata": {
    "colab": {
     "base_uri": "https://localhost:8080/"
    },
    "id": "jk25Qa8Od4o0",
    "outputId": "74430b57-5fe3-4334-a967-b02ba975fa4e"
   },
   "outputs": [
    {
     "name": "stdout",
     "output_type": "stream",
     "text": [
      "I_pendulum_axis = 28000.0000 [kg*m^2]\n",
      "angular_accel = 0.5129 [rad/s^2]\n",
      "Torque = 14361.5664 [Nm]\n",
      "F = 2.8723 [kN]\n",
      "This is pretty negligible compared to contributions from other loadings\n"
     ]
    }
   ],
   "source": [
    "# ---------------------- COMPUTE FORCE FROM ANGULAR ACCELERATION ----------------------\n",
    "\n",
    "# Compute approximate moment of inertia for the seat\n",
    "I_pendulum_axis = m_seat_row * r_seat_row**2 #[kg*m^2] (Approximate as point mass)\n",
    "print(\"I_pendulum_axis = %0.4f [kg*m^2]\" % I_pendulum_axis)\n",
    "\n",
    "# Compute required torque\n",
    "angular_accel = omega_2_max / t_max_rotation #[rad/s^2]\n",
    "print(\"angular_accel = %0.4f [rad/s^2]\" % angular_accel)\n",
    "\n",
    "Torque = I_pendulum_axis * angular_accel\n",
    "print(\"Torque = %0.4f [Nm]\" % Torque)\n",
    "\n",
    "# Compute the force acting on the A Beam (T=F*d)\n",
    "F = Torque / r_seat_row\n",
    "print(\"F = %0.4f [kN]\" % (F/1000))\n",
    "print(\"This is pretty negligible compared to contributions from other loadings\")"
   ]
  },
  {
   "cell_type": "code",
   "execution_count": null,
   "metadata": {
    "colab": {
     "base_uri": "https://localhost:8080/"
    },
    "id": "8w12_z2BXUgG",
    "outputId": "029fbea7-d8f7-4ed7-af17-266884e0e2c4"
   },
   "outputs": [
    {
     "name": "stdout",
     "output_type": "stream",
     "text": [
      "Max drag force = 330.7500 [N]\n",
      "This is pretty negligible compared to contributions from other loadings\n"
     ]
    }
   ],
   "source": [
    "# ---------------------- COMPUTE DRAG FORCE FROM AIR RESISTANCE ----------------------\n",
    "\n",
    "# Estimate force of air resistance drag at theta = 0\n",
    "v = 20 #[m/s] (Max velocity, 20m/s is probably an overestimate)\n",
    "A = 1*1.5 #[m/s] (Bulk frontal area)\n",
    "C_d = 0.9 #[] (Coefficient of drag, 0.9 is very high)\n",
    "\n",
    "F_d = 1/2 * C_d * rho * A * v**2\n",
    "print(\"Max drag force = %0.4f [N]\" % F_d)\n",
    "print(\"This is pretty negligible compared to contributions from other loadings\")"
   ]
  },
  {
   "cell_type": "code",
   "execution_count": null,
   "metadata": {
    "id": "Av2vbjv-ADWE"
   },
   "outputs": [],
   "source": [
    "# Dump some random code snippets here that didn't get used\n",
    "\n",
    "# surf = ax.plot_surface(X, Y, k_values, cmap=cm.coolwarm, linewidth=0, antialiased=False) <-- This makes a 3D surface\n",
    "# ax1.pcolormesh(X, Y, k_values, cmap=cm.binary) <-- This makes a 2D colourmapped surface\n",
    "# ax2.pcolormesh(X, Y, yield_values, cmap=cm.coolwarm) <-- This makes a 2D colourmapped surface"
   ]
  }
 ],
 "metadata": {
  "colab": {
   "collapsed_sections": [],
   "name": "2021-10-05_MECH426_Assignment_Calculations.ipynb",
   "provenance": []
  },
  "kernelspec": {
   "display_name": "Python 3 (ipykernel)",
   "language": "python",
   "name": "python3"
  },
  "language_info": {
   "codemirror_mode": {
    "name": "ipython",
    "version": 3
   },
   "file_extension": ".py",
   "mimetype": "text/x-python",
   "name": "python",
   "nbconvert_exporter": "python",
   "pygments_lexer": "ipython3",
   "version": "3.9.7"
  }
 },
 "nbformat": 4,
 "nbformat_minor": 1
}
