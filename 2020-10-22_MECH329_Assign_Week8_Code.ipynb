{
 "cells": [
  {
   "cell_type": "code",
   "execution_count": 22,
   "metadata": {},
   "outputs": [
    {
     "name": "stdout",
     "output_type": "stream",
     "text": [
      "Sucess!\n"
     ]
    }
   ],
   "source": [
    "from math import *\n",
    "import numpy as np\n",
    "from scipy.optimize import fsolve\n",
    "# import matplotlib\n",
    "# import matplotlib.pyplot as plt\n",
    "\n",
    "print(\"Sucess!\")"
   ]
  },
  {
   "cell_type": "code",
   "execution_count": 5,
   "metadata": {},
   "outputs": [
    {
     "name": "stdout",
     "output_type": "stream",
     "text": [
      "sigma_fau = 6.6800e+08 [Pa]\n",
      "sigma_fal = 6.4800e+08 [Pa]\n"
     ]
    }
   ],
   "source": [
    "# Question2\n",
    "sigma_fm = 50E6\n",
    "sigma_fr = 1.08E9\n",
    "f = 0.6\n",
    "\n",
    "sigma_fau = sigma_fr * f + sigma_fm * (1-f)\n",
    "print(\"sigma_fau = %0.4e [Pa]\" % sigma_fau)\n",
    "\n",
    "sigma_fal = max(f*sigma_fr, (1-f)*sigma_fm)\n",
    "print(\"sigma_fal = %0.4e [Pa]\" % sigma_fal)"
   ]
  },
  {
   "cell_type": "code",
   "execution_count": 18,
   "metadata": {},
   "outputs": [
    {
     "name": "stdout",
     "output_type": "stream",
     "text": [
      "sigma_fau = 6.6800e+08 [Pa]\n",
      "sigma_fal = 6.4800e+08 [Pa]\n",
      "sigma_fac = 7.0000e+07 [Pa]\n",
      "286478897.5654116\n",
      "70000000.0\n"
     ]
    }
   ],
   "source": [
    "# Question3 - Crushing strength\n",
    "sigma_fm = 50E6\n",
    "sigma_fr = 1.08E9\n",
    "f = 0.6\n",
    "\n",
    "sigma_fau = sigma_fr * f + sigma_fm * (1-f)\n",
    "print(\"sigma_fau = %0.4e [Pa]\" % sigma_fau)\n",
    "\n",
    "sigma_fal = max(f*sigma_fr, (1-f)*sigma_fm)\n",
    "print(\"sigma_fal = %0.4e [Pa]\" % sigma_fal)\n",
    "\n",
    "theta = radians(5)\n",
    "sigma_fac = min((sigma_fm/(2*theta)), (1.4*sigma_fm))\n",
    "print(\"sigma_fac = %0.4e [Pa]\" % sigma_fac)\n",
    "print((sigma_fm/(2*theta)))\n",
    "print(1.4*sigma_fm)"
   ]
  },
  {
   "cell_type": "code",
   "execution_count": 21,
   "metadata": {},
   "outputs": [
    {
     "name": "stdout",
     "output_type": "stream",
     "text": [
      "sigma_fau = 6.6800e+08 [Pa]\n",
      "sigma_fal = 6.4800e+08 [Pa]\n",
      "sigma_ftu = 2.2182e+08 [Pa]\n"
     ]
    }
   ],
   "source": [
    "# Question4 - Transverse strength\n",
    "sigma_fm = 50E6\n",
    "sigma_fr = 1.08E9\n",
    "f = 0.6\n",
    "\n",
    "sigma_fau = sigma_fr * f + sigma_fm * (1-f)\n",
    "print(\"sigma_fau = %0.4e [Pa]\" % sigma_fau)\n",
    "\n",
    "sigma_fal = max(f*sigma_fr, (1-f)*sigma_fm)\n",
    "print(\"sigma_fal = %0.4e [Pa]\" % sigma_fal)\n",
    "\n",
    "theta = radians(5)\n",
    "sigma_ftu = min(sigma_fm*((1/(1-f**0.5))), sigma_fr)\n",
    "print(\"sigma_ftu = %0.4e [Pa]\" % sigma_ftu)\n",
    "\n"
   ]
  },
  {
   "cell_type": "code",
   "execution_count": 25,
   "metadata": {},
   "outputs": [
    {
     "name": "stdout",
     "output_type": "stream",
     "text": [
      "Em = 3.2407e+09 [Pa]\n"
     ]
    }
   ],
   "source": [
    "# Question7 - Modulus\n",
    "\n",
    "sigma_fm = 50E6\n",
    "sigma_fr = 1.08E9\n",
    "f = 0.6\n",
    "\n",
    "Er = 70E9\n",
    "sigma_fau = 6.68E8\n",
    "\n",
    "fxn = lambda x: sigma_fau - (Er*f + x*(1-f)) * (sigma_fr/Er)\n",
    "Em = fsolve(fxn, 1E6)\n",
    "\n",
    "print(\"Em = %0.4e [Pa]\" % Em)"
   ]
  },
  {
   "cell_type": "code",
   "execution_count": 62,
   "metadata": {},
   "outputs": [
    {
     "name": "stdout",
     "output_type": "stream",
     "text": [
      "mu = 2.6923e+10\n",
      "mu = 2.6923e+04\n",
      "b = 3.0000e-04\n",
      "rho_d = 1.5329e+10 [-2*um]\n"
     ]
    }
   ],
   "source": [
    "# Question8\n",
    "\n",
    "sigma_y = 300 # [Mpa]\n",
    "E = 70 # [GPa]\n",
    "v = 0.3\n",
    "b = 0.3 # [nm]\n",
    "\n",
    "mu = (E*1E9)/(2*(1+v))\n",
    "print(\"mu = %0.4e\" % mu)\n",
    "\n",
    "# convert to [um]\n",
    "mu = mu / 1E6\n",
    "print(\"mu = %0.4e\" % mu)\n",
    "b = b / 1E3\n",
    "print(\"b = %0.4e\" % b)\n",
    "\n",
    "rho_d = (300 / (3*mu*b))**2\n",
    "print(\"rho_d = %0.4e [-2*um]\" % rho_d)"
   ]
  },
  {
   "cell_type": "code",
   "execution_count": 28,
   "metadata": {},
   "outputs": [
    {
     "name": "stdout",
     "output_type": "stream",
     "text": [
      "mu = 2.6923e+10\n",
      "sigma_yp = 4.8462e+08\n"
     ]
    }
   ],
   "source": [
    "# Question9\n",
    "\n",
    "E = 70E9\n",
    "v = 0.3\n",
    "\n",
    "mu = E/(2*(1+v))\n",
    "print(\"mu = %0.4e\" % mu)\n",
    "\n",
    "L = 60E-9 - 10E-9\n",
    "\n",
    "b = 0.3E-9\n",
    "\n",
    "sigma_yp = 3 * ((mu*b) / L)\n",
    "print(\"sigma_yp = %0.4e\" % sigma_yp)"
   ]
  },
  {
   "cell_type": "code",
   "execution_count": null,
   "metadata": {},
   "outputs": [],
   "source": []
  }
 ],
 "metadata": {
  "kernelspec": {
   "display_name": "Python 3",
   "language": "python",
   "name": "python3"
  },
  "language_info": {
   "codemirror_mode": {
    "name": "ipython",
    "version": 3
   },
   "file_extension": ".py",
   "mimetype": "text/x-python",
   "name": "python",
   "nbconvert_exporter": "python",
   "pygments_lexer": "ipython3",
   "version": "3.8.5"
  }
 },
 "nbformat": 4,
 "nbformat_minor": 4
}
